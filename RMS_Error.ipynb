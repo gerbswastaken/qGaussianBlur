{
 "cells": [
  {
   "cell_type": "code",
   "execution_count": 2,
   "id": "8debf7c6-4429-4b22-bfc9-32ce9d410eb2",
   "metadata": {},
   "outputs": [
    {
     "name": "stderr",
     "output_type": "stream",
     "text": [
      "ibmqfactory.load_account:WARNING:2022-09-29 06:43:08,152: Credentials are already in use. The existing account in the session will be replaced.\n"
     ]
    }
   ],
   "source": [
    "import numpy as np\n",
    "import matplotlib.pyplot as plt\n",
    "import PIL\n",
    "\n",
    "# Importing standard Qiskit libraries\n",
    "from qiskit import QuantumCircuit, transpile, Aer, IBMQ\n",
    "from qiskit.tools.jupyter import *\n",
    "from qiskit.visualization import *\n",
    "from ibm_quantum_widgets import *\n",
    "from qiskit.providers.aer import QasmSimulator\n",
    "from qiskit.providers.ibmq import least_busy\n",
    "\n",
    "from PIL import Image\n",
    "\n",
    "# Loading your IBM Quantum account(s)\n",
    "provider = IBMQ.load_account()"
   ]
  },
  {
   "cell_type": "code",
   "execution_count": 3,
   "id": "ef952548-6a11-4d7f-8416-31dc6811ebfa",
   "metadata": {},
   "outputs": [
    {
     "name": "stdout",
     "output_type": "stream",
     "text": [
      "[[0.8125     0.84765625 0.86328125 0.8515625 ]\n",
      " [0.88671875 0.89453125 0.22265625 0.8984375 ]\n",
      " [0.2890625  0.890625   0.49609375 0.8984375 ]\n",
      " [0.43359375 0.89453125 0.38671875 0.4375    ]]\n"
     ]
    }
   ],
   "source": [
    "# Loading our image in the Quantum State\n",
    "test_image = Image.open('test_4x4_image.tif')\n",
    "np_test_image = np.array(test_image)\n",
    "\n",
    "# We need to do this so that we take only a single channel of the color data in the .tif image\n",
    "test_image_final = []\n",
    "for row in np_test_image:\n",
    "    for pixel in row:\n",
    "        test_image_final.append( pixel[0] / 256)\n",
    "\n",
    "np_test_image = np.array(test_image_final)\n",
    "\n",
    "np_test_image = np_test_image.reshape((4,4))\n",
    "print(np_test_image)\n"
   ]
  },
  {
   "cell_type": "code",
   "execution_count": 4,
   "id": "d28dd181-b4a5-499f-9e37-7c9e5e7d10b6",
   "metadata": {},
   "outputs": [
    {
     "data": {
      "image/png": "[encoded data removed]",
      "text/plain": [
       "<Figure size 432x288 with 1 Axes>"
      ]
     },
     "metadata": {
      "needs_background": "light"
     },
     "output_type": "display_data"
    }
   ],
   "source": [
    "# Function to plot our image\n",
    "def plot_image4x4(img, title: str):\n",
    "    plt.title(title)\n",
    "    plt.imshow(img, extent=[0, 4, 4, 0], vmin=0, vmax=1, cmap='gray')\n",
    "    plt.show()\n",
    "    \n",
    "plot_image4x4(np_test_image, \"Original Image\")   "
   ]
  },
  {
   "cell_type": "code",
   "execution_count": 5,
   "id": "63afccf5-9133-4026-ae21-514d1f83dbf8",
   "metadata": {},
   "outputs": [
    {
     "name": "stdout",
     "output_type": "stream",
     "text": [
      "[[0.2778443  0.2898664  0.29520956 0.29120219]\n",
      " [0.3032243  0.30589588 0.07614002 0.30723167]\n",
      " [0.09884845 0.30456009 0.16964532 0.30723167]\n",
      " [0.14827268 0.30589588 0.1322432  0.14960847]]\n"
     ]
    },
    {
     "data": {
      "image/png": "[encoded data removed]",
      "text/plain": [
       "<Figure size 432x288 with 1 Axes>"
      ]
     },
     "metadata": {
      "needs_background": "light"
     },
     "output_type": "display_data"
    }
   ],
   "source": [
    "# We need to normalize our input image before passing it as the input quantum state.\n",
    "def normalize(array):\n",
    "    rms = np.sqrt(np.sum(np.sum(array**2)))\n",
    "    ret_array = []\n",
    "    for i in array:\n",
    "        ret_array.append( (i * (1/rms)) )\n",
    "    \n",
    "    npret_array = np.array(ret_array)\n",
    "    return npret_array\n",
    "\n",
    "# The normalized image is too dark, so we brighten it with this method\n",
    "def plot_image4x4_brightened(img, title: str):\n",
    "    plt.title(title)\n",
    "    plt.imshow(img, extent=[0, 4, 4, 0], vmin=0, vmax=0.34, cmap='gray')\n",
    "    plt.show()\n",
    "    \n",
    "\n",
    "np_test_image_normalized = normalize(np_test_image)\n",
    "print(np_test_image_normalized)\n",
    "\n",
    "plot_image4x4_brightened(np_test_image_normalized, 'image in FRQI')"
   ]
  },
  {
   "cell_type": "code",
   "execution_count": 6,
   "id": "32f99694-2ab1-4f06-ac16-d1adaf96e7d2",
   "metadata": {},
   "outputs": [
    {
     "data": {
      "image/png": "[encoded data removed]",
      "text/plain": [
       "<Figure size 432x288 with 1 Axes>"
      ]
     },
     "metadata": {
      "needs_background": "light"
     },
     "output_type": "display_data"
    }
   ],
   "source": [
    "# We're just copying the image arrays from Working_with_FRQI.ipynb:\n",
    "simulator_output = [0.2770379, 0.29197603, 0.29874738, 0.28504386,\n",
    " 0.29453353, 0.30248967, 0.06123724, 0.31104662,\n",
    " 0.09082951, 0.31424513, 0.16881943, 0.31064449,\n",
    " 0.14491377, 0.30618622, 0.14230249, 0.14747881]\n",
    "np_simulator_output = np.array(simulator_output).reshape((4,4))\n",
    "plot_image4x4_brightened(np_simulator_output, 'Simulator Output')"
   ]
  },
  {
   "cell_type": "code",
   "execution_count": 31,
   "id": "83931b4b-7676-49e3-8907-521204460abb",
   "metadata": {},
   "outputs": [],
   "source": [
    "# We need to modify the RMSE error to take into account the decrease brightness when normalizing \n",
    "def un_normalize(true_image, true_image_normalized, image, n):\n",
    "    normalization_factor = 0.0\n",
    "    for x in range(n):\n",
    "        for y in range(n):\n",
    "            normalization_factor += (true_image_normalized[y][x] / true_image[y][x])\n",
    "    \n",
    "    #The average normalization factor, to account for floating point errors.\n",
    "    normalization_factor /= (n**2)\n",
    "    \n",
    "    image = image / normalization_factor\n",
    "    return image\n",
    "\n",
    "def rmse_image_error(true_image, error_image, n):\n",
    "    rms_error = 0.0\n",
    "    for y in range(n):\n",
    "        for x in range(n):\n",
    "            rms_error += ((true_image[y][x] - error_image[y][x]) ** 2)\n",
    "            \n",
    "    rms_error = np.sqrt(rms_error)\n",
    "    return (rms_error / (n**2))"
   ]
  },
  {
   "cell_type": "code",
   "execution_count": 25,
   "id": "482a7e10-8ac7-498a-aced-26117e170ff1",
   "metadata": {},
   "outputs": [
    {
     "name": "stdout",
     "output_type": "stream",
     "text": [
      "[[0.81014186 0.85382543 0.87362688 0.83355368]\n",
      " [0.86130432 0.88457046 0.17907604 0.90959355]\n",
      " [0.26561271 0.91894695 0.49367861 0.9084176 ]\n",
      " [0.4237713  0.89538028 0.41613513 0.43127224]]\n"
     ]
    }
   ],
   "source": [
    "np_image_to_print = un_normalize(np_test_image, np_test_image_normalized, np_simulator_output, 4)\n",
    "print(np_image_to_print)"
   ]
  },
  {
   "cell_type": "code",
   "execution_count": 23,
   "id": "ace93ec2-278e-4c6e-a838-8a9ff71597a2",
   "metadata": {},
   "outputs": [
    {
     "name": "stdout",
     "output_type": "stream",
     "text": [
      "0.025823336717180137\n"
     ]
    }
   ],
   "source": [
    "print(image_error(np_test_image_normalized, np_simulator_output, 4))"
   ]
  },
  {
   "cell_type": "code",
   "execution_count": 8,
   "id": "1505b4db-c817-428d-9d6b-580d01f1b099",
   "metadata": {},
   "outputs": [
    {
     "data": {
      "image/png": "[encoded data removed]",
      "text/plain": [
       "<Figure size 432x288 with 1 Axes>"
      ]
     },
     "metadata": {
      "needs_background": "light"
     },
     "output_type": "display_data"
    },
    {
     "name": "stdout",
     "output_type": "stream",
     "text": [
      "0.20965361752722306\n"
     ]
    }
   ],
   "source": [
    "ibm_quito_output = [0.33689761, 0.3588175, 0.28939592, 0.27883687,\n",
    " 0.29068884, 0.24899799, 0.19235384, 0.32287769,\n",
    " 0.17958285, 0.26598872, 0.19039433, 0.23769729,\n",
    " 0.14662878, 0.24289916, 0.13693064, 0.1161895]\n",
    "np_ibm_quito_output = np.array(ibm_quito_output).reshape((4,4))\n",
    "plot_image4x4_brightened(np_ibm_quito_output, 'IBM Quito Output')\n",
    "print(image_error(np_test_image_normalized, np_ibm_quito_output, 4))"
   ]
  },
  {
   "cell_type": "code",
   "execution_count": 18,
   "id": "d69670e2-01f9-4b63-890c-6e3349ec1af3",
   "metadata": {},
   "outputs": [
    {
     "name": "stdout",
     "output_type": "stream",
     "text": [
      "(4, 4)\n",
      "(4, 4)\n"
     ]
    }
   ],
   "source": [
    "from skimage.metrics import structural_similarity as ssim\n",
    "from skimage.metrics import mean_squared_error as mse\n",
    "print(np_test_image_normalized.shape)\n",
    "print(np_simulator_output.shape)"
   ]
  },
  {
   "cell_type": "code",
   "execution_count": 13,
   "id": "4aeb7c9a-b347-48da-b2a9-7a777f14f966",
   "metadata": {},
   "outputs": [
    {
     "name": "stdout",
     "output_type": "stream",
     "text": [
      "Traceback \u001b[1;36m(most recent call last)\u001b[0m:\n",
      "  Input \u001b[0;32mIn [13]\u001b[0m in \u001b[0;35m<cell line: 1>\u001b[0m\n",
      "    ssim_simulator = ssim(np_test_image_normalized, np_simulator_output, data_range=np_simulator_output.max() - np_simulator_output.min())\n",
      "\u001b[1;36m  File \u001b[1;32m/opt/conda/lib/python3.8/site-packages/skimage/metrics/_structural_similarity.py:152\u001b[1;36m in \u001b[1;35mstructural_similarity\u001b[1;36m\u001b[0m\n",
      "\u001b[1;33m    raise ValueError(\u001b[0m\n",
      "\u001b[1;31mValueError\u001b[0m\u001b[1;31m:\u001b[0m win_size exceeds image extent.  If the input is a multichannel (color) image, set multichannel=True.\n",
      "\n",
      "Use %tb to get the full traceback.\n"
     ]
    },
    {
     "data": {
      "text/html": [
       "\n",
       "<style>\n",
       ".button {\n",
       "  border: none;\n",
       "  color: white;\n",
       "  padding: 4px 8px;\n",
       "  text-align: center;\n",
       "  text-decoration: none;\n",
       "  display: inline-block;\n",
       "  font-size: 12px;\n",
       "  margin: 4px 2px;\n",
       "  transition-duration: 0.2s;\n",
       "  cursor: pointer;\n",
       "}\n",
       ".iqx-button {\n",
       "  background-color: #0f62fe; \n",
       "  color: white; \n",
       "}\n",
       ".iqx-button:hover {\n",
       "  background-color: #0043ce;\n",
       "  color: white;\n",
       "}\n",
       "</style>\n",
       "<a href=\"https://stackoverflow.com/search?q=ValueError: win_size exceeds image extent.  If the input is a multichannel (color) image, set multichannel=True.\" target='_blank'><button class='button iqx-button'>Search for solution online</button></a>\n"
      ],
      "text/plain": [
       "<IPython.core.display.HTML object>"
      ]
     },
     "metadata": {},
     "output_type": "display_data"
    }
   ],
   "source": [
    "# We can't use SSIM for images that are 4x4; too small!\n",
    "# We'll use this for larger images, perhaps 8x8 or 16x16 when we scale up our circuits later.\n",
    "# For now we'll use mean squared error!\n",
    "ssim_simulator = ssim(np_test_image_normalized, np_simulator_output, data_range=np_simulator_output.max() - np_simulator_output.min())\n",
    "print(ssim_simulator)"
   ]
  },
  {
   "cell_type": "code",
   "execution_count": 30,
   "id": "d41b1cd6-c5ad-4d48-ab29-ede552c773fd",
   "metadata": {},
   "outputs": [
    {
     "data": {
      "image/png": "[encoded data removed]",
      "text/plain": [
       "<Figure size 432x288 with 1 Axes>"
      ]
     },
     "metadata": {
      "needs_background": "light"
     },
     "output_type": "display_data"
    }
   ],
   "source": [
    "ibm_kolkata_output = [0.25194555, 0.298106, 0.33946189, 0.31093357, 0.25194555, 0.259582, 0.12103073, 0.30458732, 0.16822864, 0.30777681, 0.21194781, 0.33071891, 0.14320549, 0.22750343, 0.14320549, 0.16535946]\n",
    "np_ibm_kolkata_output = np.array(ibm_kolkata_output).reshape((4,4))\n",
    "plot_image4x4_brightened(np_ibm_kolkata_output, 'IBM Kolkata Output')"
   ]
  },
  {
   "cell_type": "code",
   "execution_count": 33,
   "id": "710ce15f-c948-4bf2-9bd7-a2ac9f2ee4fa",
   "metadata": {},
   "outputs": [
    {
     "name": "stdout",
     "output_type": "stream",
     "text": [
      "Simulator error:  0.4719698542319386 % per pixel\n",
      "IBM Quito error:  3.8318126114852897 % per pixel\n",
      "IBM Kolkata error:  2.8069918095700905 % per pixel\n"
     ]
    }
   ],
   "source": [
    "rmse_simulator = rmse_image_error(np_test_image, un_normalize(np_test_image, np_test_image_normalized, np_simulator_output, 4), 4)\n",
    "rmse_quito = rmse_image_error(np_test_image, un_normalize(np_test_image, np_test_image_normalized, np_ibm_quito_output, 4), 4) \n",
    "rmse_kolkata = rmse_image_error(np_test_image, un_normalize(np_test_image, np_test_image_normalized, np_ibm_kolkata_output, 4), 4) \n",
    "\n",
    "print(\"Simulator error: \", (rmse_simulator * 100), \"% per pixel\")\n",
    "print(\"IBM Quito error: \", (rmse_quito * 100), \"% per pixel\")\n",
    "print(\"IBM Kolkata error: \", (rmse_kolkata * 100), \"% per pixel\")\n"
   ]
  },
  {
   "cell_type": "code",
   "execution_count": null,
   "id": "aedc2402-0bcc-4819-a4dd-8ba31c417047",
   "metadata": {},
   "outputs": [],
   "source": [
    "# We can now measure RMSE error per pixel. \n",
    "# Ideally we want to use SSIM, since it's a better way to compare two images.\n",
    "# For smaller images, it's just not possible."
   ]
  }
 ],
 "metadata": {
  "kernelspec": {
   "display_name": "Python 3 (ipykernel)",
   "language": "python",
   "name": "python3"
  },
  "language_info": {
   "codemirror_mode": {
    "name": "ipython",
    "version": 3
   },
   "file_extension": ".py",
   "mimetype": "text/x-python",
   "name": "python",
   "nbconvert_exporter": "python",
   "pygments_lexer": "ipython3",
   "version": "3.10.8"
  },
  "widgets": {
   "application/vnd.jupyter.widget-state+json": {
    "state": {},
    "version_major": 2,
    "version_minor": 0
   }
  }
 },
 "nbformat": 4,
 "nbformat_minor": 5
}
