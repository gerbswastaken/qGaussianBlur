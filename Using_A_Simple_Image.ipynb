{
 "cells": [
  {
   "cell_type": "code",
   "execution_count": 2,
   "id": "af109a40-6446-49dd-b68a-22c020cb6d41",
   "metadata": {},
   "outputs": [
    {
     "name": "stderr",
     "output_type": "stream",
     "text": [
      "ibmqfactory.load_account:WARNING:2022-09-21 16:41:47,771: Credentials are already in use. The existing account in the session will be replaced.\n"
     ]
    }
   ],
   "source": [
    "import numpy as np\n",
    "import matplotlib.pyplot as plt\n",
    "import PIL\n",
    "\n",
    "# Importing standard Qiskit libraries\n",
    "from qiskit import QuantumCircuit, transpile, Aer, IBMQ\n",
    "from qiskit.tools.jupyter import *\n",
    "from qiskit.visualization import *\n",
    "from ibm_quantum_widgets import *\n",
    "from qiskit.providers.aer import QasmSimulator\n",
    "from qiskit.providers.ibmq import least_busy\n",
    "\n",
    "from PIL import Image\n",
    "\n",
    "# Loading your IBM Quantum account(s)\n",
    "provider = IBMQ.load_account()"
   ]
  },
  {
   "cell_type": "code",
   "execution_count": 16,
   "id": "fcf87ae0-9ec9-44df-975d-246775028eb0",
   "metadata": {},
   "outputs": [
    {
     "data": {
      "image/png": "[encoded data removed]",
      "text/plain": [
       "<Figure size 507.997x325.08 with 1 Axes>"
      ]
     },
     "execution_count": 16,
     "metadata": {},
     "output_type": "execute_result"
    }
   ],
   "source": [
    "qc_image = QuantumCircuit(4,4)\n",
    "\n",
    "for i in range(4):\n",
    "    qc_image.h(i)\n",
    "\n",
    "qc_image.cz(0,2)\n",
    "qc_image.cz(1,3)\n",
    "\n",
    "qc_image.x(1)\n",
    "qc_image.x(3)\n",
    "\n",
    "qc_image.measure([0,1,2], [0,1,2])\n",
    "    \n",
    "qc_image.draw()"
   ]
  },
  {
   "cell_type": "code",
   "execution_count": 7,
   "id": "6e4b1f3c-a479-48c9-acbf-414a1dd6f0ad",
   "metadata": {},
   "outputs": [],
   "source": [
    "def plot_image4x4_brightened(img, title: str):\n",
    "    plt.title(title)\n",
    "    plt.imshow(img, extent=[0, 4, 4, 0], vmin=0, vmax=0.34, cmap='gray')\n",
    "    plt.show()"
   ]
  },
  {
   "cell_type": "code",
   "execution_count": 17,
   "id": "84383699-b15b-4c30-b364-7e4aaa626fae",
   "metadata": {},
   "outputs": [
    {
     "name": "stdout",
     "output_type": "stream",
     "text": [
      "{'0101': 502, '0001': 522, '0010': 496, '0110': 481, '0100': 505, '0000': 482, '0011': 517, '0111': 495}\n"
     ]
    },
    {
     "data": {
      "image/png": "[encoded data removed]",
      "text/plain": [
       "<Figure size 504x360 with 1 Axes>"
      ]
     },
     "execution_count": 17,
     "metadata": {},
     "output_type": "execute_result"
    }
   ],
   "source": [
    "#Firstly, with a simulator:\n",
    "simulator = Aer.get_backend('aer_simulator')\n",
    "qc_image_transpiled = transpile(qc_image, simulator)\n",
    "\n",
    "qc_image_sim_result = simulator.run(qc_image_transpiled, shots=4000).result()\n",
    "qc_image_sim_counts = qc_image_sim_result.get_counts()\n",
    "\n",
    "print(qc_image_sim_counts)\n",
    "plot_histogram(qc_image_sim_counts)"
   ]
  },
  {
   "cell_type": "code",
   "execution_count": 10,
   "id": "0761bb1d-494f-430c-9760-102df3720a78",
   "metadata": {},
   "outputs": [
    {
     "name": "stdout",
     "output_type": "stream",
     "text": [
      "Traceback \u001b[1;36m(most recent call last)\u001b[0m:\n",
      "\u001b[1;36m  File \u001b[1;32m/opt/conda/lib/python3.8/site-packages/IPython/core/compilerop.py:105\u001b[1;36m in \u001b[1;35mast_parse\u001b[1;36m\u001b[0m\n",
      "\u001b[1;33m    return compile(source, filename, symbol, self.flags | PyCF_ONLY_AST, 1)\u001b[0m\n",
      "\u001b[1;36m  Input \u001b[1;32mIn [10]\u001b[1;36m\u001b[0m\n",
      "\u001b[1;33m    np_sim_image_counts = np.array(sim_image_counts)\u001b[0m\n",
      "\u001b[1;37m                                                    ^\u001b[0m\n",
      "\u001b[1;31mIndentationError\u001b[0m\u001b[1;31m:\u001b[0m expected an indented block\n",
      "\n",
      "Use %tb to get the full traceback.\n"
     ]
    },
    {
     "data": {
      "text/html": [
       "\n",
       "<style>\n",
       ".button {\n",
       "  border: none;\n",
       "  color: white;\n",
       "  padding: 4px 8px;\n",
       "  text-align: center;\n",
       "  text-decoration: none;\n",
       "  display: inline-block;\n",
       "  font-size: 12px;\n",
       "  margin: 4px 2px;\n",
       "  transition-duration: 0.2s;\n",
       "  cursor: pointer;\n",
       "}\n",
       ".iqx-button {\n",
       "  background-color: #0f62fe; \n",
       "  color: white; \n",
       "}\n",
       ".iqx-button:hover {\n",
       "  background-color: #0043ce;\n",
       "  color: white;\n",
       "}\n",
       "</style>\n",
       "<a href=\"https://stackoverflow.com/search?q=IndentationError: expected an indented block\" target='_blank'><button class='button iqx-button'>Search for solution online</button></a>\n"
      ],
      "text/plain": [
       "<IPython.core.display.HTML object>"
      ]
     },
     "metadata": {},
     "output_type": "display_data"
    }
   ],
   "source": [
    "# We need to convert this python dict into a pixel array, which we do like so:\n",
    "get_bin = lambda x, n: format(x, 'b').zfill(n)\n",
    "\n",
    "sim_image_counts = [qc_image_sim_counts[get_bin(i,4)] for i in range(2**4)]\n",
    "            \n",
    "    \n",
    "np_sim_image_counts = np.array(sim_image_counts)\n",
    "np_sim_image_counts = np_sim_image_counts / 4000\n",
    "# We need to square root evvery vale to determine the amplitudes\n",
    "np_sim_image_counts = np.sqrt(np_sim_image_counts)\n",
    "np_sim_image_counts = normalize(np_sim_image_counts)\n",
    "\n",
    "np_sim_image_counts = np_sim_image_counts.reshape((4,4))\n",
    "\n",
    "print(np_sim_image_counts)\n",
    "\n",
    "plot_image4x4_brightened(np_sim_image_counts, \"Simulator Output; 4000 shots\")"
   ]
  },
  {
   "cell_type": "code",
   "execution_count": 18,
   "id": "9fe84fc2-635e-45a3-800a-22f284ee5fe1",
   "metadata": {},
   "outputs": [
    {
     "name": "stdout",
     "output_type": "stream",
     "text": [
      "[482, 522, 496, 517, 505, 502, 481, 495, 0, 0, 0, 0, 0, 0, 0, 0]\n"
     ]
    }
   ],
   "source": [
    "def get_image_counts(counts, n):\n",
    "    return_counts = []\n",
    "    for i in range(2**n):\n",
    "        if get_bin(i,n) in counts:\n",
    "            return_counts.append(counts[get_bin(i,n)])\n",
    "        else:\n",
    "            return_counts.append(0)\n",
    "    \n",
    "    return return_counts\n",
    "\n",
    "print(get_image_counts(qc_image_sim_counts,4))"
   ]
  },
  {
   "cell_type": "code",
   "execution_count": 11,
   "id": "72b670e2-e653-4eda-89d9-f58391d1140d",
   "metadata": {},
   "outputs": [
    {
     "data": {
      "text/plain": [
       "str"
      ]
     },
     "execution_count": 11,
     "metadata": {},
     "output_type": "execute_result"
    }
   ],
   "source": []
  },
  {
   "cell_type": "code",
   "execution_count": null,
   "id": "b36c31ea-a4c8-434e-9e2c-2ec2036c70a9",
   "metadata": {},
   "outputs": [],
   "source": []
  }
 ],
 "metadata": {
  "kernelspec": {
   "display_name": "Python 3 (ipykernel)",
   "language": "python",
   "name": "python3"
  },
  "language_info": {
   "codemirror_mode": {
    "name": "ipython",
    "version": 3
   },
   "file_extension": ".py",
   "mimetype": "text/x-python",
   "name": "python",
   "nbconvert_exporter": "python",
   "pygments_lexer": "ipython3",
   "version": "3.8.13"
  },
  "widgets": {
   "application/vnd.jupyter.widget-state+json": {
    "state": {},
    "version_major": 2,
    "version_minor": 0
   }
  }
 },
 "nbformat": 4,
 "nbformat_minor": 5
}
