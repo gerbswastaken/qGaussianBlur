{
 "cells": [
  {
   "cell_type": "code",
   "execution_count": 1,
   "id": "5bc0452a-158a-4e42-9af7-892fd3843ac3",
   "metadata": {},
   "outputs": [
    {
     "name": "stderr",
     "output_type": "stream",
     "text": [
      "<frozen importlib._bootstrap>:219: RuntimeWarning: scipy._lib.messagestream.MessageStream size changed, may indicate binary incompatibility. Expected 56 from C header, got 64 from PyObject\n"
     ]
    }
   ],
   "source": [
    "import numpy as np\n",
    "import matplotlib.pyplot as plt\n",
    "import PIL\n",
    "import qiskit\n",
    "\n",
    "# Importing standard Qiskit libraries\n",
    "from qiskit import QuantumCircuit, QuantumRegister, transpile, Aer, IBMQ, execute, transpile\n",
    "from qiskit.tools.jupyter import *\n",
    "from qiskit.visualization import *\n",
    "from ibm_quantum_widgets import *\n",
    "from qiskit.providers.aer import QasmSimulator\n",
    "from qiskit.providers.ibmq import least_busy\n",
    "\n",
    "from PIL import Image\n",
    "\n",
    "# Loading your IBM Quantum account(s)\n",
    "provider = IBMQ.load_account()"
   ]
  },
  {
   "cell_type": "code",
   "execution_count": 2,
   "id": "e2d0c417-7fd2-41f9-9c3d-c65b195dcf67",
   "metadata": {},
   "outputs": [
    {
     "name": "stdout",
     "output_type": "stream",
     "text": [
      "[[0.8125     0.84765625 0.86328125 0.8515625 ]\n",
      " [0.88671875 0.89453125 0.22265625 0.8984375 ]\n",
      " [0.2890625  0.890625   0.49609375 0.8984375 ]\n",
      " [0.43359375 0.89453125 0.38671875 0.4375    ]]\n"
     ]
    }
   ],
   "source": [
    "test_image = Image.open('test_4x4_image.tif')\n",
    "np_test_image = np.array(test_image)\n",
    "\n",
    "test_image_final = []\n",
    "for row in np_test_image:\n",
    "    for pixel in row:\n",
    "        test_image_final.append(pixel[0] / 256)\n",
    "\n",
    "np_test_image_final = np.array(test_image_final)\n",
    "\n",
    "np_test_image = np_test_image_final.reshape((4,4))\n",
    "print(np_test_image)"
   ]
  },
  {
   "cell_type": "code",
   "execution_count": 3,
   "id": "eb629473-0974-4a99-bff5-4d05bdcb830c",
   "metadata": {},
   "outputs": [
    {
     "data": {
      "image/png": "[encoded data removed]",
      "text/plain": [
       "<Figure size 432x288 with 1 Axes>"
      ]
     },
     "metadata": {
      "needs_background": "light"
     },
     "output_type": "display_data"
    }
   ],
   "source": [
    "def plot_image4x4(img, title: str):\n",
    "    plt.title(title)\n",
    "    plt.imshow(img, extent=[0, 4, 4, 0], vmin=0, vmax=1, cmap='gray')\n",
    "    plt.show()\n",
    "    \n",
    "plot_image4x4(np_test_image, \"Original Image\")   "
   ]
  },
  {
   "cell_type": "code",
   "execution_count": 4,
   "id": "f04a722d-fb54-4f2f-b8c8-eecc1816cf53",
   "metadata": {},
   "outputs": [
    {
     "name": "stdout",
     "output_type": "stream",
     "text": [
      "[[0.2778443  0.2898664  0.29520956 0.29120219]\n",
      " [0.3032243  0.30589588 0.07614002 0.30723167]\n",
      " [0.09884845 0.30456009 0.16964532 0.30723167]\n",
      " [0.14827268 0.30589588 0.1322432  0.14960847]]\n"
     ]
    },
    {
     "data": {
      "image/png": "[encoded data removed]",
      "text/plain": [
       "<Figure size 432x288 with 1 Axes>"
      ]
     },
     "metadata": {
      "needs_background": "light"
     },
     "output_type": "display_data"
    }
   ],
   "source": [
    "# We need to normalize our input image before passing it as the input quantum state.\n",
    "def normalize(array):\n",
    "    rms = np.sqrt(np.sum(np.sum(array**2)))\n",
    "    ret_array = []\n",
    "    for i in array:\n",
    "        ret_array.append( (i * (1/rms)) )\n",
    "    \n",
    "    npret_array = np.array(ret_array)\n",
    "    return npret_array\n",
    "\n",
    "def plot_image4x4_bright(img, title: str):\n",
    "    plt.title(title)\n",
    "    plt.imshow(img, extent=[0, 4, 4, 0], vmin=0, vmax=0.4, cmap='gray')\n",
    "    plt.show()\n",
    "    \n",
    "np_test_image_normalized = normalize(np_test_image.reshape((1,16)))\n",
    "np_test_image_normalized = np_test_image_normalized.reshape((4,4))\n",
    "\n",
    "print(np_test_image_normalized)\n",
    "\n",
    "plot_image4x4_bright(np_test_image_normalized, \"Original Image\")   "
   ]
  },
  {
   "cell_type": "code",
   "execution_count": 5,
   "id": "b165f72d-c583-43bd-a8b0-26c4ddd0d8ae",
   "metadata": {},
   "outputs": [],
   "source": [
    "def ansatz(param, ansatz_num_layers):    \n",
    "    num_q = 4\n",
    "    qc = QuantumCircuit(num_q, num_q)    \n",
    "    for ansatz_j in range(ansatz_num_layers):        \n",
    "        for ansatz_i in range(num_q):\n",
    "            qc.ry(param[ansatz_i + ansatz_j*num_q], ansatz_i)        \n",
    "        if ansatz_j < ansatz_num_layers-1:            \n",
    "            qc.cx(0,1)\n",
    "            qc.cx(1,2)\n",
    "            qc.cx(2,3)\n",
    "            qc.cx(3,0)\n",
    "    qc.barrier()\n",
    "    qc.measure(range(num_q), range(num_q))      \n",
    "    return qc"
   ]
  },
  {
   "cell_type": "code",
   "execution_count": 6,
   "id": "916885db-7c9b-410c-9a86-d80e168c5e04",
   "metadata": {},
   "outputs": [],
   "source": [
    "def loss_function(params, loss_num_layers, loss_num_shots):\n",
    "    \n",
    "    # We will optimize this quantity as well\n",
    "    num_shots = loss_num_shots\n",
    "    circ = ansatz(param=params, ansatz_num_layers=loss_num_layers)\n",
    "    counts = execute(circ, backend=simulator, shots=num_shots).result().get_counts(circ)\n",
    "    \n",
    "    strings = []\n",
    "    for loss_i in range(16):\n",
    "        strings.append(get_bin(loss_i,4))\n",
    "    \n",
    "    for loss_i in strings:\n",
    "        if loss_i not in counts:\n",
    "            counts[loss_i] = 0\n",
    "    \n",
    "    p = [counts[string]/num_shots for string in strings]\n",
    "    \n",
    "    return sum([(p[loss_i] - np_test_image_normalized[loss_i])**2 for loss_i in range(len(np_test_image_normalized))])\n",
    "    # Other Loss Functions:\n",
    "    #return sum([abs(p[i] - prob_distr[i]) for i in range(len(prob_distr))])\n",
    "    #return sum([ prob_distr[i]*math.log2(p[i]) for i in range(len(prob_distr))])"
   ]
  },
  {
   "cell_type": "code",
   "execution_count": 7,
   "id": "057d0a2f-d32a-4ae7-979d-8fa3cf68eb34",
   "metadata": {},
   "outputs": [],
   "source": [
    "# Training the Quantum Circuit\n",
    "import scipy.optimize as spo"
   ]
  },
  {
   "cell_type": "code",
   "execution_count": 13,
   "id": "aef3530f-7665-41c4-914c-374d89953f3e",
   "metadata": {},
   "outputs": [
    {
     "name": "stdout",
     "output_type": "stream",
     "text": [
      "[20.3894816  18.02273499 24.77451361 19.41226744 15.45411217 12.62740883\n",
      "  6.89755627  7.60452333 12.69604778 11.32128826 11.15443358  7.60654981\n",
      "  6.86593435  4.37483347  0.38375222  3.69661565  8.35885874 10.09129986\n",
      "  6.13470835  6.59110081 -4.31010815  3.82455583  0.21096317  6.19635895\n",
      "  4.81032818  1.41227066  7.36358347  2.3083785  -2.56166876  5.57765718\n",
      "  1.1011375  -3.74781906  3.07562406  1.64802533  2.23487996  3.89649405\n",
      "  2.73539976  2.30508499  1.40872258  3.53107343]\n"
     ]
    }
   ],
   "source": [
    "np_test_image_normalized = np_test_image_normalized.reshape(16)\n",
    "\n",
    "# Setting up the simulator:\n",
    "simulator = Aer.get_backend('aer_simulator')\n",
    "# Lambda to convert between integer and it's binary string representation\n",
    "get_bin = lambda x, n: format(x, 'b').zfill(n)\n",
    "\n",
    "\n",
    "# res = spo.minimize(loss_function, np.ones(4 * 5), args=(5,4000), method=\"COBYLA\")\n",
    "minim_kwargs = {\"method\":\"COBYLA\", \"args\":(10, 16000)}\n",
    "res = spo.basinhopping(loss_function, np.ones(4 * 10), minimizer_kwargs=minim_kwargs, niter=100)\n",
    "\n",
    "print(res.x)"
   ]
  },
  {
   "cell_type": "code",
   "execution_count": 9,
   "id": "9867a412-9c54-46cf-be5d-c1c10a2cb1a7",
   "metadata": {},
   "outputs": [
    {
     "data": {
      "image/png": "[encoded data removed]",
      "text/plain": [
       "<Figure size 1591.6x686.28 with 1 Axes>"
      ]
     },
     "execution_count": 9,
     "metadata": {},
     "output_type": "execute_result"
    }
   ],
   "source": [
    "optimized_params = res.x\n",
    "\n",
    "trained_ansatz = ansatz(optimized_params, 5)\n",
    "\n",
    "trained_ansatz.draw()"
   ]
  },
  {
   "cell_type": "code",
   "execution_count": 10,
   "id": "91daaac4-113b-4be9-81f9-0477f1b1bafd",
   "metadata": {},
   "outputs": [
    {
     "name": "stdout",
     "output_type": "stream",
     "text": [
      "{'1110': 1, '0100': 235, '1111': 58, '0001': 141, '0000': 259, '0010': 19, '1101': 9, '1100': 47, '0110': 96, '1000': 6, '1010': 68, '1001': 4, '0101': 62, '1011': 19}\n"
     ]
    }
   ],
   "source": [
    "simulator = Aer.get_backend('aer_simulator')\n",
    "trained_ansatz_transpiled = transpile(trained_ansatz, simulator)\n",
    "\n",
    "# Run and get statevector\n",
    "result = simulator.run(trained_ansatz_transpiled).result()\n",
    "counts = result.get_counts()\n",
    "\n",
    "print(counts)"
   ]
  },
  {
   "cell_type": "code",
   "execution_count": 12,
   "id": "c9e7b23e-77e5-4b3f-9edd-b61a3dfdb0b1",
   "metadata": {},
   "outputs": [
    {
     "name": "stdout",
     "output_type": "stream",
     "text": [
      "[[0.50292115 0.37107319 0.13621559 0.        ]\n",
      " [0.47905343 0.24606275 0.30618622 0.        ]\n",
      " [0.07654655 0.0625     0.2576941  0.13621559]\n",
      " [0.21423921 0.09375    0.03125    0.23799291]]\n"
     ]
    },
    {
     "data": {
      "image/png": "[encoded data removed]",
      "text/plain": [
       "<Figure size 432x288 with 1 Axes>"
      ]
     },
     "metadata": {
      "needs_background": "light"
     },
     "output_type": "display_data"
    }
   ],
   "source": [
    "# Lambda to convert between integer and it's binary string representation\n",
    "get_bin = lambda x, n: format(x, 'b').zfill(n)\n",
    "\n",
    "qGAN_output = []\n",
    "for i in range(16):\n",
    "    if get_bin(i, 4) in counts:\n",
    "        qGAN_output.append(np.sqrt( ( counts.get(get_bin(i, 4)) / 16000 ) ) )\n",
    "    else:\n",
    "        qGAN_output.append(0)\n",
    "        \n",
    "np_qGAN_output = np.array(qGAN_output).reshape((4,4))\n",
    "np_qGAN_output = normalize(np_qGAN_output)\n",
    "\n",
    "print(np_qGAN_output)\n",
    "\n",
    "plot_image4x4_bright(np_qGAN_output, \"QGAN | vmax = 0.4\")   "
   ]
  },
  {
   "cell_type": "code",
   "execution_count": 21,
   "id": "06d5ecb4-0fb2-4243-a3b9-c546052d7055",
   "metadata": {},
   "outputs": [],
   "source": [
    "# We want to quantify error\n",
    "# Let's calculate the RMSE for our simulator output:\n",
    "def un_normalize(true_image, true_image_normalized, image, n):\n",
    "    normalization_factor = 0.0\n",
    "    for x in range(n):\n",
    "        for y in range(n):\n",
    "            normalization_factor += (true_image_normalized[y][x] / true_image[y][x])\n",
    "    \n",
    "    #The average normalization factor, to account for floating point errors.\n",
    "    normalization_factor /= (n**2)\n",
    "    \n",
    "    image = image / normalization_factor\n",
    "    return image\n",
    "\n",
    "def rmse_image_error(true_image, error_image, n):\n",
    "    rms_error = 0.0\n",
    "    for y in range(n):\n",
    "        for x in range(n):\n",
    "            rms_error += ((true_image[y][x] - error_image[y][x]) ** 2)\n",
    "            \n",
    "    rms_error = np.sqrt(rms_error)\n",
    "    return (rms_error / (n**2))"
   ]
  },
  {
   "cell_type": "code",
   "execution_count": 23,
   "id": "06f56e70-ba69-4f5c-815e-4ec3cc4a1eb3",
   "metadata": {},
   "outputs": [
    {
     "name": "stdout",
     "output_type": "stream",
     "text": [
      "0.89453125\n",
      "[0.2778443  0.2898664  0.29520956 0.29120219 0.3032243  0.30589588\n",
      " 0.07614002 0.30723167 0.09884845 0.30456009 0.16964532 0.30723167\n",
      " 0.14827268 0.30589588 0.1322432  0.14960847]\n",
      "Traceback \u001b[1;36m(most recent call last)\u001b[0m:\n",
      "  Input \u001b[0;32mIn [23]\u001b[0m in \u001b[0;35m<cell line: 3>\u001b[0m\n",
      "    test = un_normalize(np_test_image, np_test_image_normalized, np_test_image_normalized, 4)\n",
      "\u001b[1;36m  Input \u001b[1;32mIn [21]\u001b[1;36m in \u001b[1;35mun_normalize\u001b[1;36m\u001b[0m\n",
      "\u001b[1;33m    normalization_factor += (true_image_normalized[y][x] / true_image[y][x])\u001b[0m\n",
      "\u001b[1;31mIndexError\u001b[0m\u001b[1;31m:\u001b[0m invalid index to scalar variable.\n",
      "\n",
      "Use %tb to get the full traceback.\n"
     ]
    },
    {
     "data": {
      "text/html": [
       "\n",
       "<style>\n",
       ".button {\n",
       "  border: none;\n",
       "  color: white;\n",
       "  padding: 4px 8px;\n",
       "  text-align: center;\n",
       "  text-decoration: none;\n",
       "  display: inline-block;\n",
       "  font-size: 12px;\n",
       "  margin: 4px 2px;\n",
       "  transition-duration: 0.2s;\n",
       "  cursor: pointer;\n",
       "}\n",
       ".iqx-button {\n",
       "  background-color: #0f62fe; \n",
       "  color: white; \n",
       "}\n",
       ".iqx-button:hover {\n",
       "  background-color: #0043ce;\n",
       "  color: white;\n",
       "}\n",
       "</style>\n",
       "<a href=\"https://stackoverflow.com/search?q=IndexError: invalid index to scalar variable.\" target='_blank'><button class='button iqx-button'>Search for solution online</button></a>\n"
      ],
      "text/plain": [
       "<IPython.core.display.HTML object>"
      ]
     },
     "metadata": {},
     "output_type": "display_data"
    }
   ],
   "source": [
    "print(np_test_image[1][1])\n",
    "print(np_test_image_normalized)\n",
    "test = un_normalize(np_test_image, np_test_image_normalized, np_test_image_normalized, 4)"
   ]
  },
  {
   "cell_type": "code",
   "execution_count": 24,
   "id": "5586f2ae-7ed6-4c5b-bb9f-272181fe1d5b",
   "metadata": {},
   "outputs": [
    {
     "name": "stdout",
     "output_type": "stream",
     "text": [
      "0.04503581547783959\n"
     ]
    }
   ],
   "source": [
    "rmse_error = rmse_image_error(np_test_image, un_normalize(np_test_image, np_test_image_normalized.reshape((4,4)), np_qGAN_output, 4), 4)\n",
    "print(rmse_error)"
   ]
  },
  {
   "cell_type": "code",
   "execution_count": 32,
   "id": "2917855f-533f-4feb-8f31-1ac31fd2d081",
   "metadata": {},
   "outputs": [
    {
     "name": "stdout",
     "output_type": "stream",
     "text": [
      "1670402051.8471885\n",
      "2022-12-07 14:04:11.847379\n"
     ]
    }
   ],
   "source": [
    "import time\n",
    "import datetime\n",
    "\n",
    "print(time.time())\n",
    "print(datetime.datetime.now() + datetime.timedelta(hours=5.5))"
   ]
  },
  {
   "cell_type": "code",
   "execution_count": null,
   "id": "0acb7f82-a345-4759-a689-1d6099eae9ea",
   "metadata": {},
   "outputs": [
    {
     "name": "stdout",
     "output_type": "stream",
     "text": [
      "num_layers =  1\n",
      "Beginning Training @  2022-12-07 14:07:31.507067\n",
      "Finished Training @  2022-12-07 14:10:50.657413\n",
      "Time Elapsed:  199.1503472328186 s.\n"
     ]
    },
    {
     "data": {
      "image/png": "[encoded data removed]",
      "text/plain": [
       "<Figure size 432x288 with 1 Axes>"
      ]
     },
     "metadata": {
      "needs_background": "light"
     },
     "output_type": "display_data"
    },
    {
     "name": "stdout",
     "output_type": "stream",
     "text": [
      "-X-X-X-X-X-X-X-\n",
      "num_layers =  2\n",
      "Beginning Training @  2022-12-07 14:10:51.039180\n",
      "Finished Training @  2022-12-07 14:18:51.286365\n",
      "Time Elapsed:  480.24718499183655 s.\n"
     ]
    },
    {
     "data": {
      "image/png": "[encoded data removed]",
      "text/plain": [
       "<Figure size 432x288 with 1 Axes>"
      ]
     },
     "metadata": {
      "needs_background": "light"
     },
     "output_type": "display_data"
    },
    {
     "name": "stdout",
     "output_type": "stream",
     "text": [
      "-X-X-X-X-X-X-X-\n",
      "num_layers =  3\n",
      "Beginning Training @  2022-12-07 14:18:51.500366\n",
      "Finished Training @  2022-12-07 14:30:03.234070\n",
      "Time Elapsed:  671.7337040901184 s.\n"
     ]
    },
    {
     "data": {
      "image/png": "[encoded data removed]",
      "text/plain": [
       "<Figure size 432x288 with 1 Axes>"
      ]
     },
     "metadata": {
      "needs_background": "light"
     },
     "output_type": "display_data"
    },
    {
     "name": "stdout",
     "output_type": "stream",
     "text": [
      "-X-X-X-X-X-X-X-\n",
      "num_layers =  4\n",
      "Beginning Training @  2022-12-07 14:30:03.437048\n",
      "Finished Training @  2022-12-07 14:45:42.919042\n",
      "Time Elapsed:  939.4819917678833 s.\n"
     ]
    },
    {
     "data": {
      "image/png": "[encoded data removed]",
      "text/plain": [
       "<Figure size 432x288 with 1 Axes>"
      ]
     },
     "metadata": {
      "needs_background": "light"
     },
     "output_type": "display_data"
    },
    {
     "name": "stdout",
     "output_type": "stream",
     "text": [
      "-X-X-X-X-X-X-X-\n",
      "num_layers =  5\n",
      "Beginning Training @  2022-12-07 14:45:43.305337\n",
      "Finished Training @  2022-12-07 15:09:43.634722\n",
      "Time Elapsed:  1440.3293855190277 s.\n"
     ]
    },
    {
     "data": {
      "image/png": "[encoded data removed]",
      "text/plain": [
       "<Figure size 432x288 with 1 Axes>"
      ]
     },
     "metadata": {
      "needs_background": "light"
     },
     "output_type": "display_data"
    },
    {
     "name": "stdout",
     "output_type": "stream",
     "text": [
      "-X-X-X-X-X-X-X-\n",
      "num_layers =  6\n",
      "Beginning Training @  2022-12-07 15:09:43.917110\n",
      "Finished Training @  2022-12-07 15:34:41.377285\n",
      "Time Elapsed:  1497.460171699524 s.\n"
     ]
    },
    {
     "data": {
      "image/png": "[encoded data removed]",
      "text/plain": [
       "<Figure size 432x288 with 1 Axes>"
      ]
     },
     "metadata": {
      "needs_background": "light"
     },
     "output_type": "display_data"
    },
    {
     "name": "stdout",
     "output_type": "stream",
     "text": [
      "-X-X-X-X-X-X-X-\n",
      "num_layers =  7\n",
      "Beginning Training @  2022-12-07 15:34:41.590688\n",
      "Finished Training @  2022-12-07 17:34:50.836233\n",
      "Time Elapsed:  2714.171865940094 s.\n"
     ]
    },
    {
     "data": {
      "image/png": "[encoded data removed]",
      "text/plain": [
       "<Figure size 432x288 with 1 Axes>"
      ]
     },
     "metadata": {
      "needs_background": "light"
     },
     "output_type": "display_data"
    },
    {
     "name": "stdout",
     "output_type": "stream",
     "text": [
      "-X-X-X-X-X-X-X-\n",
      "num_layers =  10\n",
      "Beginning Training @  2022-12-07 17:34:51.090679\n"
     ]
    }
   ],
   "source": [
    "num_layers_array = [1,2,3,4,5,6,7,8,9,10]\n",
    "num_shots_array = [1000, 2000, 3000, 4000, 5000, 6000, 7000, 8000, 9000, 10000]\n",
    "\n",
    "# Setting up the simulator:\n",
    "simulator = Aer.get_backend('aer_simulator')\n",
    "# Lambda to convert between integer and it's binary string representation\n",
    "get_bin = lambda x, n: format(x, 'b').zfill(n)\n",
    "\n",
    "#Let's see how number of layers affects the image output\n",
    "num_layers_array_rmse_error = []\n",
    "for num_layers_value in num_layers_array:\n",
    "    print(\"num_layers = \", num_layers_value)\n",
    "    # Define and Train the QGAN\n",
    "    start_time = time.time()\n",
    "    print(\"Beginning Training @ \", (datetime.datetime.now() + datetime.timedelta(hours=5.5)))\n",
    "    # res = spo.minimize(loss_function, np.ones(4 * num_layers_value), args=(num_layers_value, 4000), method=\"COBYLA\")\n",
    "    minim_kwargs = {\"method\":\"COBYLA\", \"args\":(num_layers_value, 4000)}\n",
    "    res = spo.basinhopping(loss_function, np.ones(4 * num_layers_value), minimizer_kwargs=minim_kwargs, niter=100)\n",
    "    end_time = time.time()\n",
    "    print(\"Finished Training @ \", (datetime.datetime.now() + datetime.timedelta(hours=5.5)))\n",
    "    print(\"Time Elapsed: \", (end_time - start_time), \"s.\")\n",
    "    optimized_params = res.x\n",
    "    trained_ansatz = ansatz(optimized_params, num_layers_value)\n",
    "    \n",
    "    # Run the QGAN\n",
    "    trained_ansatz_transpiled = transpile(trained_ansatz, simulator)\n",
    "    result = simulator.run(trained_ansatz_transpiled).result()\n",
    "    counts = result.get_counts()\n",
    "    \n",
    "    # Construct the image from QGAN circuit output\n",
    "    qGAN_output = []\n",
    "    for i in range(16):\n",
    "        if get_bin(i, 4) in counts:\n",
    "            qGAN_output.append(np.sqrt( ( counts.get(get_bin(i, 4)) / 4000 ) ) )\n",
    "        else:\n",
    "            qGAN_output.append(0)\n",
    "        \n",
    "    np_qGAN_output = np.array(qGAN_output).reshape((4,4))\n",
    "    np_qGAN_output = normalize(np_qGAN_output)\n",
    "    \n",
    "    # Print image output\n",
    "    title_string = \"QGAN | num_layers = {} | 4000 shots\".format(num_layers_value)\n",
    "    plot_image4x4_bright(np_qGAN_output, title_string)\n",
    "\n",
    "    # Calculate error\n",
    "    rmse_error = rmse_image_error(np_test_image, un_normalize(np_test_image, np_test_image_normalized.reshape((4,4)), np_qGAN_output, 4), 4)\n",
    "    num_layers_array_rmse_error.append(rmse_error)\n",
    "    \n",
    "    print(\"-X-X-X-X-X-X-X-\")\n",
    "    \n",
    "print(num_layers_array_rmse_error)"
   ]
  },
  {
   "cell_type": "code",
   "execution_count": null,
   "id": "19465934-2bb3-4ab5-af6d-b9a5995fcd1f",
   "metadata": {},
   "outputs": [],
   "source": [
    "# RMSE Error isn't really effective in determining how well increasing the number of layers leads to a better iamge\n",
    "# We'll do this for a 8x8 image and use SSIM to get a better idea of how similar the images are"
   ]
  },
  {
   "cell_type": "code",
   "execution_count": 2,
   "id": "f7cffcb3-e604-4d54-b51e-a37cde83a0f8",
   "metadata": {},
   "outputs": [
    {
     "name": "stdout",
     "output_type": "stream",
     "text": [
      "[[0.734375   0.7890625  0.80859375 0.8203125  0.828125   0.81640625\n",
      "  0.80859375 0.77734375]\n",
      " [0.79296875 0.859375   0.87109375 0.87890625 0.890625   0.90234375\n",
      "  0.890625   0.859375  ]\n",
      " [0.84375    0.890625   0.89453125 0.90625    0.859375   0.6328125\n",
      "  0.77734375 0.90234375]\n",
      " [0.86328125 0.8984375  0.8984375  0.91796875 0.7734375  0.31640625\n",
      "  0.453125   0.94140625]\n",
      " [0.89453125 0.9375     0.91796875 0.91796875 0.8203125  0.26171875\n",
      "  0.4375     0.96875   ]\n",
      " [0.68359375 0.51953125 0.6953125  0.953125   0.734375   0.3359375\n",
      "  0.49609375 0.65625   ]\n",
      " [0.5625     0.5390625  0.52734375 0.99609375 0.4140625  0.16796875\n",
      "  0.22265625 0.33203125]\n",
      " [0.61328125 0.6171875  0.71484375 0.90625    0.73046875 0.55859375\n",
      "  0.5625     0.578125  ]]\n"
     ]
    }
   ],
   "source": [
    "test_image_8x8 = Image.open('clock_test_image_8x8.tif')\n",
    "np_test_image_8x8 = np.array(test_image_8x8)\n",
    "\n",
    "test_image_8x8_final = []\n",
    "for row in np_test_image_8x8:\n",
    "    for pixel in row:\n",
    "        test_image_8x8_final.append(pixel[0] / 256)\n",
    "\n",
    "np_test_image_8x8_final = np.array(test_image_8x8_final)\n",
    "\n",
    "np_test_image_8x8 = np_test_image_8x8_final.reshape((8,8))\n",
    "print(np_test_image_8x8)"
   ]
  },
  {
   "cell_type": "code",
   "execution_count": 3,
   "id": "b644e135-38bf-4be7-8f4f-dd4a2d4a5fa0",
   "metadata": {},
   "outputs": [
    {
     "data": {
      "image/png": "[encoded data removed]",
      "text/plain": [
       "<Figure size 432x288 with 1 Axes>"
      ]
     },
     "metadata": {
      "needs_background": "light"
     },
     "output_type": "display_data"
    }
   ],
   "source": [
    "def plot_image_8x8(img, title: str):\n",
    "    plt.title(title)\n",
    "    plt.imshow(img, extent=[0, 8, 8, 0], vmin=0, vmax=1, cmap='gray')\n",
    "    plt.show()\n",
    "    \n",
    "plot_image_8x8(np_test_image_8x8, \"Original Image\")   "
   ]
  },
  {
   "cell_type": "code",
   "execution_count": 5,
   "id": "21781fc6-c435-41e5-9fab-d83df2b4d237",
   "metadata": {},
   "outputs": [
    {
     "name": "stdout",
     "output_type": "stream",
     "text": [
      "[[0.12184001 0.1309132  0.13415363 0.13609788 0.13739405 0.1354498\n",
      "  0.13415363 0.12896894]\n",
      " [0.13156128 0.14257873 0.14452299 0.14581916 0.14776341 0.14970767\n",
      "  0.14776341 0.14257873]\n",
      " [0.13998639 0.14776341 0.1484115  0.15035575 0.14257873 0.10498979\n",
      "  0.12896894 0.14970767]\n",
      " [0.14322682 0.14905958 0.14905958 0.15230001 0.12832086 0.0524949\n",
      "  0.07517788 0.15618852]\n",
      " [0.1484115  0.15554043 0.15230001 0.15230001 0.13609788 0.0434217\n",
      "  0.07258554 0.16072512]\n",
      " [0.1134149  0.08619532 0.11535916 0.15813278 0.12184001 0.05573532\n",
      "  0.08230681 0.1088783 ]\n",
      " [0.09332426 0.08943575 0.08749149 0.16526171 0.06869703 0.02786766\n",
      "  0.03694085 0.05508724]\n",
      " [0.10174937 0.10239745 0.11859958 0.15035575 0.12119192 0.09267618\n",
      "  0.09332426 0.0959166 ]]\n"
     ]
    },
    {
     "data": {
      "image/png": "[encoded data removed]",
      "text/plain": [
       "<Figure size 432x288 with 1 Axes>"
      ]
     },
     "metadata": {
      "needs_background": "light"
     },
     "output_type": "display_data"
    }
   ],
   "source": [
    "# We need to normalize our input image before passing it as the input quantum state.\n",
    "def normalize(array):\n",
    "    rms = np.sqrt(np.sum(np.sum(array**2)))\n",
    "    ret_array = []\n",
    "    for i in array:\n",
    "        ret_array.append( (i * (1/rms)) )\n",
    "    \n",
    "    npret_array = np.array(ret_array)\n",
    "    return npret_array\n",
    "\n",
    "def plot_image_8x8_bright(img, title: str):\n",
    "    plt.title(title)\n",
    "    plt.imshow(img, extent=[0, 8, 8, 0], vmin=0, vmax=0.3, cmap='gray')\n",
    "    plt.show()\n",
    "    \n",
    "np_test_image_8x8_normalized = normalize(np_test_image_8x8.reshape((1,64)))\n",
    "np_test_image_8x8_normalized = np_test_image_8x8_normalized.reshape((8,8))\n",
    "\n",
    "print(np_test_image_8x8_normalized)\n",
    "\n",
    "plot_image_8x8_bright(np_test_image_8x8_normalized, \"Brightened | vmax = 0.3\")   "
   ]
  },
  {
   "cell_type": "code",
   "execution_count": 12,
   "id": "c6785ab1-8317-48ad-8822-7704dc8e7d8b",
   "metadata": {},
   "outputs": [],
   "source": [
    "def ansatz_8x8(param, ansatz_num_layers):    \n",
    "    num_q = 6\n",
    "    qc = QuantumCircuit(num_q, num_q)    \n",
    "    for ansatz_j in range(ansatz_num_layers):        \n",
    "        for ansatz_i in range(num_q):\n",
    "            qc.ry(param[ansatz_i + ansatz_j*num_q], ansatz_i)        \n",
    "        if ansatz_j < ansatz_num_layers-1:            \n",
    "            qc.cx(0,1)\n",
    "            qc.cx(1,2)\n",
    "            qc.cx(2,3)\n",
    "            qc.cx(3,4)\n",
    "            qc.cx(4,5)\n",
    "            qc.cx(5,0)\n",
    "            qc.barrier()\n",
    "    qc.measure(range(num_q), range(num_q))      \n",
    "    return qc"
   ]
  },
  {
   "cell_type": "code",
   "execution_count": 18,
   "id": "762ffaff-9678-45e2-a29c-6da2d6f077f1",
   "metadata": {},
   "outputs": [],
   "source": [
    "import math\n",
    "\n",
    "def loss_function_8x8(params, loss_num_layers, loss_num_shots):\n",
    "    # We will optimize this quantity as well\n",
    "    num_shots = loss_num_shots\n",
    "    circ = ansatz_8x8(param=params, ansatz_num_layers=loss_num_layers)\n",
    "    counts = execute(circ, backend=simulator, shots=num_shots).result().get_counts(circ)\n",
    "    \n",
    "    strings = []\n",
    "    for loss_i in range(2**6):\n",
    "        strings.append(get_bin(loss_i,6))\n",
    "    \n",
    "    for loss_i in strings:\n",
    "        if loss_i not in counts:\n",
    "            counts[loss_i] = 0\n",
    "    \n",
    "    p = [counts[string]/num_shots for string in strings]\n",
    "    for i_test in range(len(np_test_image_8x8_normalized)):\n",
    "        if p[i_test] == 0:\n",
    "            p[i_test] = 0.000001\n",
    "    \n",
    "    #return sum([(p[loss_i] - np_test_image_8x8_normalized[loss_i])**2 for loss_i in range(len(np_test_image_8x8_normalized))])\n",
    "    #return sum([abs(p[loss_i] - np_test_image_8x8_normalized[loss_i]) for loss_i in range(len(np_test_image_8x8_normalized))])\n",
    "    return sum([ np_test_image_8x8_normalized[loss_i]*math.log2(p[loss_i]) for loss_i in range(len(np_test_image_8x8_normalized))])"
   ]
  },
  {
   "cell_type": "code",
   "execution_count": 14,
   "id": "d628791e-fbf3-47db-ba4a-1554066f840a",
   "metadata": {},
   "outputs": [],
   "source": [
    "# Training the Quantum Circuit\n",
    "import scipy.optimize as spo\n",
    "np_test_image_8x8_normalized = np_test_image_8x8_normalized.reshape(64)\n",
    "\n",
    "# Using SSIM\n",
    "from skimage.metrics import structural_similarity as ssim\n",
    "\n",
    "def un_normalize(true_image, true_image_normalized, image, n):\n",
    "    perfect_image = true_image.reshape((n,n))\n",
    "    normal_image = true_image_normalized.reshape((n,n))\n",
    "    normalization_factor = 0.0\n",
    "    for x in range(n):\n",
    "        for y in range(n):\n",
    "            normalization_factor += (normal_image[y][x] / perfect_image[y][x])\n",
    "    \n",
    "    #The average normalization factor, to account for floating point errors.\n",
    "    normalization_factor /= (n**2)\n",
    "    \n",
    "    image = image / normalization_factor\n",
    "    return image\n",
    "\n",
    "# For Timing the learning \n",
    "import time"
   ]
  },
  {
   "cell_type": "code",
   "execution_count": 19,
   "id": "3b957bbd-c279-4984-92ab-e30752239c7b",
   "metadata": {},
   "outputs": [
    {
     "name": "stdout",
     "output_type": "stream",
     "text": [
      "num_layers =  1\n",
      "Beginning Training @  2022-12-04 13:57:38.622868\n",
      "Training Completed @  2022-12-04 13:57:54.183845  | Time Elasped:  15.560975551605225 s.\n"
     ]
    },
    {
     "data": {
      "image/png": "[encoded data removed]",
      "text/plain": [
       "<Figure size 432x288 with 1 Axes>"
      ]
     },
     "metadata": {
      "needs_background": "light"
     },
     "output_type": "display_data"
    },
    {
     "name": "stdout",
     "output_type": "stream",
     "text": [
      "SSIM Error:  -0.009821031377792565\n",
      "-X-X-X-X-X-X-X-\n",
      "num_layers =  2\n",
      "Beginning Training @  2022-12-04 13:57:54.311207\n",
      "Training Completed @  2022-12-04 13:58:29.688884  | Time Elasped:  35.37767577171326 s.\n"
     ]
    },
    {
     "data": {
      "image/png": "[encoded data removed]",
      "text/plain": [
       "<Figure size 432x288 with 1 Axes>"
      ]
     },
     "metadata": {
      "needs_background": "light"
     },
     "output_type": "display_data"
    },
    {
     "name": "stdout",
     "output_type": "stream",
     "text": [
      "SSIM Error:  0.049642701681232936\n",
      "-X-X-X-X-X-X-X-\n",
      "num_layers =  3\n",
      "Beginning Training @  2022-12-04 13:58:29.929078\n",
      "Training Completed @  2022-12-04 13:59:17.831216  | Time Elasped:  47.902138233184814 s.\n"
     ]
    },
    {
     "data": {
      "image/png": "[encoded data removed]",
      "text/plain": [
       "<Figure size 432x288 with 1 Axes>"
      ]
     },
     "metadata": {
      "needs_background": "light"
     },
     "output_type": "display_data"
    },
    {
     "name": "stdout",
     "output_type": "stream",
     "text": [
      "SSIM Error:  -0.16215146381790438\n",
      "-X-X-X-X-X-X-X-\n",
      "num_layers =  4\n",
      "Beginning Training @  2022-12-04 13:59:18.102284\n",
      "Training Completed @  2022-12-04 14:00:26.699683  | Time Elasped:  68.59739899635315 s.\n"
     ]
    },
    {
     "data": {
      "image/png": "[encoded data removed]",
      "text/plain": [
       "<Figure size 432x288 with 1 Axes>"
      ]
     },
     "metadata": {
      "needs_background": "light"
     },
     "output_type": "display_data"
    },
    {
     "name": "stdout",
     "output_type": "stream",
     "text": [
      "SSIM Error:  -0.0904343440915627\n",
      "-X-X-X-X-X-X-X-\n",
      "num_layers =  5\n",
      "Beginning Training @  2022-12-04 14:00:26.878096\n",
      "Training Completed @  2022-12-04 14:01:52.654750  | Time Elasped:  85.77665305137634 s.\n"
     ]
    },
    {
     "data": {
      "image/png": "[encoded data removed]",
      "text/plain": [
       "<Figure size 432x288 with 1 Axes>"
      ]
     },
     "metadata": {
      "needs_background": "light"
     },
     "output_type": "display_data"
    },
    {
     "name": "stdout",
     "output_type": "stream",
     "text": [
      "SSIM Error:  -0.06919704592845835\n",
      "-X-X-X-X-X-X-X-\n",
      "num_layers =  6\n",
      "Beginning Training @  2022-12-04 14:01:53.024185\n",
      "Training Completed @  2022-12-04 14:03:28.308472  | Time Elasped:  95.28428626060486 s.\n"
     ]
    },
    {
     "data": {
      "image/png": "[encoded data removed]",
      "text/plain": [
       "<Figure size 432x288 with 1 Axes>"
      ]
     },
     "metadata": {
      "needs_background": "light"
     },
     "output_type": "display_data"
    },
    {
     "name": "stdout",
     "output_type": "stream",
     "text": [
      "SSIM Error:  -0.07522998724322971\n",
      "-X-X-X-X-X-X-X-\n",
      "num_layers =  7\n",
      "Beginning Training @  2022-12-04 14:03:28.544408\n",
      "Training Completed @  2022-12-04 14:05:58.830788  | Time Elasped:  150.28638005256653 s.\n"
     ]
    },
    {
     "data": {
      "image/png": "[encoded data removed]",
      "text/plain": [
       "<Figure size 432x288 with 1 Axes>"
      ]
     },
     "metadata": {
      "needs_background": "light"
     },
     "output_type": "display_data"
    },
    {
     "name": "stdout",
     "output_type": "stream",
     "text": [
      "SSIM Error:  -0.26672779196978524\n",
      "-X-X-X-X-X-X-X-\n",
      "num_layers =  8\n",
      "Beginning Training @  2022-12-04 14:05:59.001438\n",
      "Training Completed @  2022-12-04 14:08:20.173957  | Time Elasped:  141.17251825332642 s.\n"
     ]
    },
    {
     "data": {
      "image/png": "[encoded data removed]",
      "text/plain": [
       "<Figure size 432x288 with 1 Axes>"
      ]
     },
     "metadata": {
      "needs_background": "light"
     },
     "output_type": "display_data"
    },
    {
     "name": "stdout",
     "output_type": "stream",
     "text": [
      "SSIM Error:  -0.22496927256857022\n",
      "-X-X-X-X-X-X-X-\n",
      "num_layers =  9\n",
      "Beginning Training @  2022-12-04 14:08:20.510535\n",
      "Training Completed @  2022-12-04 14:10:43.522690  | Time Elasped:  143.01215410232544 s.\n"
     ]
    },
    {
     "data": {
      "image/png": "[encoded data removed]",
      "text/plain": [
       "<Figure size 432x288 with 1 Axes>"
      ]
     },
     "metadata": {
      "needs_background": "light"
     },
     "output_type": "display_data"
    },
    {
     "name": "stdout",
     "output_type": "stream",
     "text": [
      "SSIM Error:  0.0015622049257141783\n",
      "-X-X-X-X-X-X-X-\n",
      "num_layers =  10\n",
      "Beginning Training @  2022-12-04 14:10:43.889227\n",
      "Training Completed @  2022-12-04 14:13:45.064152  | Time Elasped:  181.1749231815338 s.\n"
     ]
    },
    {
     "data": {
      "image/png": "[encoded data removed]",
      "text/plain": [
       "<Figure size 432x288 with 1 Axes>"
      ]
     },
     "metadata": {
      "needs_background": "light"
     },
     "output_type": "display_data"
    },
    {
     "name": "stdout",
     "output_type": "stream",
     "text": [
      "SSIM Error:  -0.019908788698616158\n",
      "-X-X-X-X-X-X-X-\n"
     ]
    }
   ],
   "source": [
    "from datetime import datetime\n",
    "\n",
    "# Here goes!\n",
    "num_layers_array = [1,2,3,4,5,6,7,8,9,10]\n",
    "num_shots_array = [1000, 2000, 3000, 4000, 5000, 6000, 7000, 8000, 9000, 10000]\n",
    "\n",
    "# Setting up the simulator:\n",
    "simulator = Aer.get_backend('aer_simulator')\n",
    "# Lambda to convert between integer and it's binary string representation\n",
    "get_bin = lambda x, n: format(x, 'b').zfill(n)\n",
    "\n",
    "#Let's see how number of layers affects the image output\n",
    "num_layers_qGAN_output = []\n",
    "num_layers_SSIM_error = []\n",
    "for num_layers_value in num_layers_array:\n",
    "    print(\"num_layers = \", num_layers_value)\n",
    "    # Define and Train the QGAN\n",
    "    start_training = time.time()\n",
    "    print(\"Beginning Training @ \", datetime.now())\n",
    "    res = spo.minimize(loss_function_8x8, np.ones(6 * num_layers_value), args=(num_layers_value, 64000), method=\"COBYLA\")\n",
    "    end_training = time.time()\n",
    "    print(\"Training Completed @ \", datetime.now(), \" | Time Elasped: \", (end_training - start_training), \"s.\")\n",
    "    optimized_params = res.x\n",
    "    trained_ansatz = ansatz_8x8(optimized_params, num_layers_value)\n",
    "    \n",
    "    # Run the QGAN\n",
    "    trained_ansatz_transpiled = transpile(trained_ansatz, simulator)\n",
    "    result = simulator.run(trained_ansatz_transpiled).result()\n",
    "    counts = result.get_counts()\n",
    "    \n",
    "    # Construct the image from QGAN circuit output\n",
    "    qGAN_output = []\n",
    "    for i in range(64):\n",
    "        if get_bin(i, 6) in counts:\n",
    "            qGAN_output.append(np.sqrt( ( counts.get(get_bin(i, 6)) / 64000 ) ) )\n",
    "        else:\n",
    "            qGAN_output.append(0)\n",
    "        \n",
    "    np_qGAN_output = np.array(qGAN_output).reshape((8,8))\n",
    "    np_qGAN_output = normalize(np_qGAN_output)\n",
    "    \n",
    "    num_layers_qGAN_output.append(np_qGAN_output)\n",
    "    \n",
    "    # Print image output\n",
    "    title_string = \"QGAN | num_layers = {} | 16000 shots\".format(num_layers_value)\n",
    "    plot_image_8x8_bright(np_qGAN_output, title_string)\n",
    "    \n",
    "    np_qGAN_output_unnormalized = un_normalize(np_test_image_8x8, np_test_image_8x8_normalized, np_qGAN_output, 8)\n",
    "    ssim_error = ssim(np_test_image_8x8, np_qGAN_output_unnormalized, data_range=np_qGAN_output_unnormalized.max() - np_qGAN_output_unnormalized.min() )\n",
    "    print(\"SSIM Error: \", ssim_error)\n",
    "    num_layers_SSIM_error.append(ssim_error)\n",
    "    \n",
    "    print(\"-X-X-X-X-X-X-X-\")\n",
    "    "
   ]
  },
  {
   "cell_type": "code",
   "execution_count": null,
   "id": "5ea52cc8-da51-4ce4-9c13-306e87e2f4d5",
   "metadata": {},
   "outputs": [],
   "source": []
  }
 ],
 "metadata": {
  "kernelspec": {
   "display_name": "Python 3 (ipykernel)",
   "language": "python",
   "name": "python3"
  },
  "language_info": {
   "codemirror_mode": {
    "name": "ipython",
    "version": 3
   },
   "file_extension": ".py",
   "mimetype": "text/x-python",
   "name": "python",
   "nbconvert_exporter": "python",
   "pygments_lexer": "ipython3",
   "version": "3.10.8"
  },
  "widgets": {
   "application/vnd.jupyter.widget-state+json": {
    "state": {},
    "version_major": 2,
    "version_minor": 0
   }
  }
 },
 "nbformat": 4,
 "nbformat_minor": 5
}
