{
 "cells": [
  {
   "cell_type": "code",
   "execution_count": 3,
   "id": "73c39ab8-3ffb-441f-b94b-658d8c67e272",
   "metadata": {},
   "outputs": [
    {
     "name": "stderr",
     "output_type": "stream",
     "text": [
      "ibmqfactory.load_account:WARNING:2022-09-16 14:34:06,455: Credentials are already in use. The existing account in the session will be replaced.\n"
     ]
    }
   ],
   "source": [
    "import numpy as np\n",
    "import matplotlib.pyplot as plt\n",
    "import PIL\n",
    "\n",
    "# Importing standard Qiskit libraries\n",
    "from qiskit import QuantumCircuit, transpile, Aer, IBMQ\n",
    "from qiskit.tools.jupyter import *\n",
    "from qiskit.visualization import *\n",
    "from ibm_quantum_widgets import *\n",
    "from qiskit.providers.aer import QasmSimulator\n",
    "from qiskit.providers.ibmq import least_busy\n",
    "\n",
    "from PIL import Image\n",
    "\n",
    "# Loading your IBM Quantum account(s)\n",
    "provider = IBMQ.load_account()"
   ]
  },
  {
   "cell_type": "code",
   "execution_count": 4,
   "id": "c34350f2-5e19-4405-9e31-2bc0b7b1b02b",
   "metadata": {},
   "outputs": [
    {
     "name": "stdout",
     "output_type": "stream",
     "text": [
      "[[0.8125     0.84765625 0.86328125 0.8515625 ]\n",
      " [0.88671875 0.89453125 0.22265625 0.8984375 ]\n",
      " [0.2890625  0.890625   0.49609375 0.8984375 ]\n",
      " [0.43359375 0.89453125 0.38671875 0.4375    ]]\n"
     ]
    }
   ],
   "source": [
    "# Loading the Test Image \n",
    "test_image = Image.open('test_4x4_image.tif')\n",
    "np_test_image = np.array(test_image)\n",
    "\n",
    "test_image_final = []\n",
    "for row in np_test_image:\n",
    "    for pixel in row:\n",
    "        test_image_final.append( pixel[0] / 256)\n",
    "\n",
    "np_test_image_final = np.array(test_image_final)\n",
    "\n",
    "np_test_image_final_reshaped = np_test_image_final.reshape((4,4))\n",
    "print(np_test_image_final_reshaped)\n"
   ]
  },
  {
   "cell_type": "code",
   "execution_count": 5,
   "id": "dd297438-c633-4d6c-85f7-593cd9ac9e7e",
   "metadata": {},
   "outputs": [
    {
     "name": "stdout",
     "output_type": "stream",
     "text": [
      "[[0.2778443  0.2898664  0.29520956 0.29120219]\n",
      " [0.3032243  0.30589588 0.07614002 0.30723167]\n",
      " [0.09884845 0.30456009 0.16964532 0.30723167]\n",
      " [0.14827268 0.30589588 0.1322432  0.14960847]]\n"
     ]
    },
    {
     "data": {
      "image/png": "[encoded data removed]",
      "text/plain": [
       "<Figure size 432x288 with 1 Axes>"
      ]
     },
     "metadata": {
      "needs_background": "light"
     },
     "output_type": "display_data"
    }
   ],
   "source": [
    "# To normalize image arrays:\n",
    "def normalize(array):\n",
    "    rms = np.sqrt(np.sum(np.sum(array**2)))\n",
    "    ret_array = []\n",
    "    for i in array:\n",
    "        ret_array.append( (i * (1/rms)) )\n",
    "    \n",
    "    npret_array = np.array(ret_array)\n",
    "    return npret_array\n",
    "\n",
    "# To plot a 4x4 image from an array consisting of a list of pixels\n",
    "def plot_image4x4_brightened(img, title: str):\n",
    "    plt.title(title)\n",
    "    plt.imshow(img, extent=[0, 4, 4, 0], vmin=0, vmax=0.34, cmap='gray')\n",
    "    plt.show()\n",
    "    \n",
    "    \n",
    "np_test_image_final_reshaped_normalized = normalize(np_test_image_final_reshaped)\n",
    "print(np_test_image_final_reshaped_normalized)\n",
    "\n",
    "plot_image4x4_brightened(np_test_image_final_reshaped_normalized, 'image in FRQI - brightened')"
   ]
  },
  {
   "cell_type": "code",
   "execution_count": 6,
   "id": "fceadd40-4808-49bb-8b5b-11c681058866",
   "metadata": {},
   "outputs": [],
   "source": [
    "# Defining the Decrement Gate that's used in the Quantum Circuit (only for a 4x4 image)\n",
    "def decrement():\n",
    "    qdec = QuantumCircuit(5)\n",
    "    for i in range(5):\n",
    "        qdec.x(i)\n",
    "    \n",
    "    qdec.mct([0,1,2,3],4)\n",
    "    qdec.mct([0,1,2],3)\n",
    "    qdec.ccx(0,1,2)\n",
    "    qdec.cx(0,1)\n",
    "    qdec.x(0)\n",
    "    \n",
    "    for i in range(5):\n",
    "        qdec.x(i)\n",
    "    \n",
    "    qdec = qdec.to_gate()\n",
    "    qdec.name = \"Decrement\"\n",
    "    \n",
    "    return qdec"
   ]
  },
  {
   "cell_type": "code",
   "execution_count": 7,
   "id": "b63c39d4-0069-4edf-a455-3c06ed90c1e9",
   "metadata": {},
   "outputs": [
    {
     "name": "stdout",
     "output_type": "stream",
     "text": [
      "[0.27784429575556685, 0.28986640470652886, 0.29520956424028977, 0.2912021945899691, 0.3032243035409311, 0.3058958833078116, 0.07614002335609284, 0.30723167319125183, 0.09884845137457667, 0.30456009342437135, 0.16964531519690862, 0.30723167319125183, 0.148272677061865, 0.3058958833078116, 0.1322431984605823, 0.14960846694530522]\n"
     ]
    },
    {
     "data": {
      "image/png": "[encoded data removed]",
      "text/plain": [
       "<Figure size 1531.4x385.28 with 1 Axes>"
      ]
     },
     "execution_count": 7,
     "metadata": {},
     "output_type": "execute_result"
    }
   ],
   "source": [
    "# Let's set up the first iteration of the qGaussian algorithm on our test image, and run it on hardware:\n",
    "initial_state = []\n",
    "\n",
    "for row in np_test_image_final_reshaped_normalized:\n",
    "    for pixel in row:\n",
    "        initial_state.append(pixel)\n",
    "\n",
    "print(initial_state)\n",
    "\n",
    "qc_1 = QuantumCircuit(5,5)\n",
    "qc_1.initialize(initial_state,[1,2,3,4])\n",
    "qc_1.barrier()\n",
    "\n",
    "qc_1.h(0)\n",
    "qc_1.barrier()\n",
    "\n",
    "qc_1.append(decrement(), [0,1,2,3,4])\n",
    "qc_1.barrier()\n",
    "\n",
    "qc_1.h(0)\n",
    "qc_1.barrier()\n",
    "\n",
    "qc_1.measure([0,1,2,3,4], [0,1,2,3,4])\n",
    "\n",
    "qc_1.draw()"
   ]
  },
  {
   "cell_type": "code",
   "execution_count": 17,
   "id": "48a3fb00-845b-4a71-87a6-eba4eeea5fb6",
   "metadata": {},
   "outputs": [
    {
     "name": "stdout",
     "output_type": "stream",
     "text": [
      "{'00111': 1, '11011': 26, '11001': 19, '10000': 185, '10101': 20, '01111': 34, '10011': 18, '01110': 177, '01000': 385, '11101': 1, '10100': 203, '00010': 394, '11111': 14, '10010': 223, '10110': 190, '11110': 192, '11100': 109, '00110': 387, '00100': 345, '01011': 58, '00000': 328, '10111': 27, '11000': 196, '11010': 185, '01101': 61, '01100': 134, '10001': 44, '01010': 140}\n"
     ]
    }
   ],
   "source": [
    "#Firstly, let's run it on a simulator:\n",
    "simulator = Aer.get_backend('aer_simulator')\n",
    "qc_1_transpiled = transpile(qc_1, simulator)\n",
    "\n",
    "# Run with 2048 shots\n",
    "result_qc_1 = simulator.run(qc_1_transpiled, shots=4096).result()\n",
    "counts_qc_1 = result_qc_1.get_counts()\n",
    "\n",
    "print(counts_qc_1)"
   ]
  },
  {
   "cell_type": "code",
   "execution_count": 18,
   "id": "1d4f5c66-0e34-40ad-a4fa-2baa582644fc",
   "metadata": {},
   "outputs": [
    {
     "name": "stdout",
     "output_type": "stream",
     "text": [
      "{'1000': 185, '0111': 177, '0100': 385, '1010': 203, '0001': 394, '1001': 223, '1011': 190, '1111': 192, '1110': 109, '0011': 387, '0010': 345, '0000': 328, '1100': 196, '1101': 185, '0110': 134, '0101': 140}\n",
      "[[0.29484483 0.32315041 0.30238911 0.32026692]\n",
      " [0.31943828 0.19262853 0.18845558 0.21659241]\n",
      " [0.22143306 0.24311347 0.23195547 0.22440545]\n",
      " [0.22792115 0.22143306 0.16996905 0.22558344]]\n"
     ]
    },
    {
     "data": {
      "image/png": "[encoded data removed]",
      "text/plain": [
       "<Figure size 432x288 with 1 Axes>"
      ]
     },
     "metadata": {
      "needs_background": "light"
     },
     "output_type": "display_data"
    }
   ],
   "source": [
    "# Converting simulator output to pixel data to display\n",
    "counts_qc_1_relevant = {qubit_order[:-1:]: shots for qubit_order, shots in counts_qc_1.items() if qubit_order[4] == '0'}\n",
    "\n",
    "print(counts_qc_1_relevant)\n",
    "\n",
    "get_bin = lambda x, n: format(x, 'b').zfill(n)\n",
    "qc_1_pixel_array = [ counts_qc_1_relevant[get_bin(i,4)] for i in range(2**4)] \n",
    "\n",
    "np_qc_1_pixel_array = np.array(qc_1_pixel_array)\n",
    "np_qc_1_pixel_array = np_qc_1_pixel_array / 4096\n",
    "np_qc_1_pixel_array = np.sqrt(np_qc_1_pixel_array)\n",
    "np_qc_1_pixel_array = normalize(np_qc_1_pixel_array)\n",
    "\n",
    "np_qc_1_pixel_array_reshaped = np_qc_1_pixel_array.reshape((4,4))\n",
    "\n",
    "print(np_qc_1_pixel_array_reshaped)\n",
    "\n",
    "plot_image4x4_brightened(np_qc_1_pixel_array_reshaped, \"1st Iteration; Aer Simulator\")"
   ]
  },
  {
   "cell_type": "code",
   "execution_count": 19,
   "id": "9a4905e2-9597-4748-9ed2-afa991d27022",
   "metadata": {},
   "outputs": [
    {
     "name": "stderr",
     "output_type": "stream",
     "text": [
      "ibmqfactory.load_account:WARNING:2022-09-16 13:25:43,924: Credentials are already in use. The existing account in the session will be replaced.\n"
     ]
    },
    {
     "name": "stdout",
     "output_type": "stream",
     "text": [
      "least busy backend:  ibmq_quito\n",
      "Job Status: job is queued (27)    "
     ]
    },
    {
     "ename": "KeyboardInterrupt",
     "evalue": "",
     "output_type": "error",
     "traceback": [
      "\u001b[0;31m---------------------------------------------------------------------------\u001b[0m",
      "\u001b[0;31mKeyboardInterrupt\u001b[0m                         Traceback (most recent call last)",
      "Input \u001b[0;32mIn [19]\u001b[0m, in \u001b[0;36m<cell line: 13>\u001b[0;34m()\u001b[0m\n\u001b[1;32m     11\u001b[0m transpiled_qc_1 \u001b[38;5;241m=\u001b[39m transpile(qc_1, backend, optimization_level\u001b[38;5;241m=\u001b[39m\u001b[38;5;241m3\u001b[39m)\n\u001b[1;32m     12\u001b[0m job_1 \u001b[38;5;241m=\u001b[39m backend\u001b[38;5;241m.\u001b[39mrun(transpiled_qc_1)\n\u001b[0;32m---> 13\u001b[0m \u001b[43mjob_monitor\u001b[49m\u001b[43m(\u001b[49m\u001b[43mjob_1\u001b[49m\u001b[43m,\u001b[49m\u001b[43m \u001b[49m\u001b[43minterval\u001b[49m\u001b[38;5;241;43m=\u001b[39;49m\u001b[38;5;241;43m2\u001b[39;49m\u001b[43m)\u001b[49m\n",
      "File \u001b[0;32m/opt/conda/lib/python3.8/site-packages/qiskit/tools/monitor/job_monitor.py:89\u001b[0m, in \u001b[0;36mjob_monitor\u001b[0;34m(job, interval, quiet, output, line_discipline)\u001b[0m\n\u001b[1;32m     86\u001b[0m \u001b[38;5;28;01melse\u001b[39;00m:\n\u001b[1;32m     87\u001b[0m     _interval_set \u001b[38;5;241m=\u001b[39m \u001b[38;5;28;01mTrue\u001b[39;00m\n\u001b[0;32m---> 89\u001b[0m \u001b[43m_text_checker\u001b[49m\u001b[43m(\u001b[49m\n\u001b[1;32m     90\u001b[0m \u001b[43m    \u001b[49m\u001b[43mjob\u001b[49m\u001b[43m,\u001b[49m\u001b[43m \u001b[49m\u001b[43minterval\u001b[49m\u001b[43m,\u001b[49m\u001b[43m \u001b[49m\u001b[43m_interval_set\u001b[49m\u001b[43m,\u001b[49m\u001b[43m \u001b[49m\u001b[43mquiet\u001b[49m\u001b[38;5;241;43m=\u001b[39;49m\u001b[43mquiet\u001b[49m\u001b[43m,\u001b[49m\u001b[43m \u001b[49m\u001b[43moutput\u001b[49m\u001b[38;5;241;43m=\u001b[39;49m\u001b[43moutput\u001b[49m\u001b[43m,\u001b[49m\u001b[43m \u001b[49m\u001b[43mline_discipline\u001b[49m\u001b[38;5;241;43m=\u001b[39;49m\u001b[43mline_discipline\u001b[49m\n\u001b[1;32m     91\u001b[0m \u001b[43m\u001b[49m\u001b[43m)\u001b[49m\n",
      "File \u001b[0;32m/opt/conda/lib/python3.8/site-packages/qiskit/tools/monitor/job_monitor.py:44\u001b[0m, in \u001b[0;36m_text_checker\u001b[0;34m(job, interval, _interval_set, quiet, output, line_discipline)\u001b[0m\n\u001b[1;32m     42\u001b[0m     \u001b[38;5;28mprint\u001b[39m(\u001b[38;5;124m\"\u001b[39m\u001b[38;5;132;01m{}\u001b[39;00m\u001b[38;5;132;01m{}\u001b[39;00m\u001b[38;5;124m: \u001b[39m\u001b[38;5;132;01m{}\u001b[39;00m\u001b[38;5;124m\"\u001b[39m\u001b[38;5;241m.\u001b[39mformat(line_discipline, \u001b[38;5;124m\"\u001b[39m\u001b[38;5;124mJob Status\u001b[39m\u001b[38;5;124m\"\u001b[39m, msg), end\u001b[38;5;241m=\u001b[39m\u001b[38;5;124m\"\u001b[39m\u001b[38;5;124m\"\u001b[39m, file\u001b[38;5;241m=\u001b[39moutput)\n\u001b[1;32m     43\u001b[0m \u001b[38;5;28;01mwhile\u001b[39;00m status\u001b[38;5;241m.\u001b[39mname \u001b[38;5;129;01mnot\u001b[39;00m \u001b[38;5;129;01min\u001b[39;00m [\u001b[38;5;124m\"\u001b[39m\u001b[38;5;124mDONE\u001b[39m\u001b[38;5;124m\"\u001b[39m, \u001b[38;5;124m\"\u001b[39m\u001b[38;5;124mCANCELLED\u001b[39m\u001b[38;5;124m\"\u001b[39m, \u001b[38;5;124m\"\u001b[39m\u001b[38;5;124mERROR\u001b[39m\u001b[38;5;124m\"\u001b[39m]:\n\u001b[0;32m---> 44\u001b[0m     \u001b[43mtime\u001b[49m\u001b[38;5;241;43m.\u001b[39;49m\u001b[43msleep\u001b[49m\u001b[43m(\u001b[49m\u001b[43minterval\u001b[49m\u001b[43m)\u001b[49m\n\u001b[1;32m     45\u001b[0m     status \u001b[38;5;241m=\u001b[39m job\u001b[38;5;241m.\u001b[39mstatus()\n\u001b[1;32m     46\u001b[0m     msg \u001b[38;5;241m=\u001b[39m status\u001b[38;5;241m.\u001b[39mvalue\n",
      "\u001b[0;31mKeyboardInterrupt\u001b[0m: "
     ]
    }
   ],
   "source": [
    "# Running on Quantum Hardware:\n",
    "IBMQ.load_account()\n",
    "provider = IBMQ.get_provider(hub='ibm-q')\n",
    "backend = least_busy(provider.backends(filters=lambda x: x.configuration().n_qubits >= (5) and\n",
    "                                   not x.configuration().simulator and x.status().operational==True))\n",
    "print(\"least busy backend: \", backend)\n",
    "\n",
    "# Run our circuit on the least busy backend. Monitor the execution of the job in the queue\n",
    "from qiskit.tools.monitor import job_monitor\n",
    "\n",
    "transpiled_qc_1 = transpile(qc_1, backend, optimization_level=3)\n",
    "job_1 = backend.run(transpiled_qc_1)\n",
    "job_monitor(job_1, interval=2)"
   ]
  },
  {
   "cell_type": "code",
   "execution_count": 9,
   "id": "fc6dbb61-19bc-438c-9f02-eb8b5bc63bc9",
   "metadata": {},
   "outputs": [
    {
     "name": "stderr",
     "output_type": "stream",
     "text": [
      "ibmqfactory.load_account:WARNING:2022-09-16 14:34:58,532: Credentials are already in use. The existing account in the session will be replaced.\n"
     ]
    },
    {
     "name": "stdout",
     "output_type": "stream",
     "text": [
      "{'00000': 110, '00001': 114, '10000': 138, '10001': 157, '10010': 147, '10011': 133, '10100': 181, '10101': 166, '10110': 169, '10111': 151, '11000': 150, '11001': 142, '11010': 134, '11011': 142, '11100': 161, '11101': 147, '11110': 142, '11111': 113, '00010': 81, '00011': 90, '00100': 128, '00101': 123, '00110': 110, '00111': 80, '01000': 100, '01001': 99, '01010': 77, '01011': 87, '01100': 119, '01101': 116, '01110': 90, '01111': 103}\n"
     ]
    }
   ],
   "source": [
    "# The Job finally ran, so we have the following data:\n",
    "job_results = {'00000': 0.0275, '00001': 0.0285, '00010':0.02025, '00011': 0.0225, '00100': 0.032, '00101': 0.03075, '00110': 0.0275, '00111': 0.02, '01000': 0.025, '01001': 0.02475, '01010': 0.01925, '01011': 0.02175, '01100': 0.02975, '01101': 0.029, '01110': 0.0225, '01111': 0.02575, '10000': 0.0345, '10001': 0.03925, '10010': 0.03675, '10011': 0.03325, '10100': 0.04525, '10101': 0.0415, '10110': 0.04225, '10111': 0.03775, '11000': 0.03775, '11001': 0.0355, '11010': 0.0335, '11011': 0.0355, '11100': 0.04025, '11101': 0.03675, '11110': 0.0355, '11111': 0.02825}\n",
    "\n",
    "IBMQ.load_account()\n",
    "provider = IBMQ.get_provider('ibm-q')\n",
    "belem = provider.get_backend('ibmq_belem')\n",
    "job_results = belem.retrieve_job('632342b128d98bbf0f844ef2').result().get_counts()\n",
    "print(job_results)\n",
    "\n"
   ]
  },
  {
   "cell_type": "code",
   "execution_count": 11,
   "id": "3616c33e-f710-4eac-bad2-a4a584765be7",
   "metadata": {},
   "outputs": [
    {
     "name": "stdout",
     "output_type": "stream",
     "text": [
      "{'0000': 110, '1000': 138, '1001': 147, '1010': 181, '1011': 169, '1100': 150, '1101': 134, '1110': 161, '1111': 142, '0001': 81, '0010': 128, '0011': 110, '0100': 100, '0101': 77, '0110': 119, '0111': 90}\n",
      "[[0.23238111 0.19941003 0.2506741  0.23238111]\n",
      " [0.2215667  0.19442399 0.24170073 0.21019663]\n",
      " [0.26028194 0.26863534 0.29808751 0.28803671]\n",
      " [0.27136268 0.256482   0.28113662 0.26402719]]\n"
     ]
    },
    {
     "data": {
      "image/png": "[encoded data removed]",
      "text/plain": [
       "<Figure size 432x288 with 1 Axes>"
      ]
     },
     "metadata": {
      "needs_background": "light"
     },
     "output_type": "display_data"
    }
   ],
   "source": [
    "# Converting simulator output to pixel data to display\n",
    "job_results_relevant = {qubit_order[:-1:]: shots for qubit_order, shots in job_results.items() if qubit_order[4] == '0'}\n",
    "\n",
    "print(job_results_relevant)\n",
    "\n",
    "get_bin = lambda x, n: format(x, 'b').zfill(n)\n",
    "job_results_pixel_array = [ job_results_relevant[get_bin(i,4)] for i in range(2**4)] \n",
    "\n",
    "np_job_results_pixel_array = np.array(job_results_pixel_array)\n",
    "np_job_results_pixel_array = np_job_results_pixel_array * 4000\n",
    "np_job_results_pixel_array = np.sqrt(np_job_results_pixel_array)\n",
    "np_job_results_pixel_array = normalize(np_job_results_pixel_array)\n",
    "\n",
    "np_job_results_pixel_array_reshaped = np_job_results_pixel_array.reshape((4,4))\n",
    "\n",
    "print(np_job_results_pixel_array_reshaped)\n",
    "\n",
    "plot_image4x4_brightened(np_job_results_pixel_array_reshaped, \"1st Iteration; IBMQ_Belem\")"
   ]
  },
  {
   "cell_type": "code",
   "execution_count": 12,
   "id": "e54923fa-55c0-444c-9c64-76d2b2294841",
   "metadata": {},
   "outputs": [
    {
     "name": "stderr",
     "output_type": "stream",
     "text": [
      "ibmqfactory.load_account:WARNING:2022-09-16 14:36:24,435: Credentials are already in use. The existing account in the session will be replaced.\n"
     ]
    },
    {
     "name": "stdout",
     "output_type": "stream",
     "text": [
      "{'00000': 134, '00001': 120, '10000': 136, '10001': 128, '10010': 133, '10011': 107, '10100': 86, '10101': 110, '10110': 101, '10111': 89, '11000': 124, '11001': 86, '11010': 131, '11011': 117, '11100': 108, '11101': 126, '11110': 125, '11111': 103, '00010': 169, '00011': 128, '00100': 105, '00101': 121, '00110': 131, '00111': 139, '01000': 136, '01001': 103, '01010': 151, '01011': 142, '01100': 152, '01101': 160, '01110': 148, '01111': 151}\n"
     ]
    }
   ],
   "source": [
    "IBMQ.load_account()\n",
    "provider = IBMQ.get_provider('ibm-q')\n",
    "quito = provider.get_backend('ibmq_quito')\n",
    "job_results = quito.retrieve_job('6324796218355855d878064e').result().get_counts()\n",
    "print(job_results)\n"
   ]
  },
  {
   "cell_type": "code",
   "execution_count": 13,
   "id": "2d8bc3ef-39a4-4d40-8580-0c3890b6475a",
   "metadata": {},
   "outputs": [
    {
     "name": "stdout",
     "output_type": "stream",
     "text": [
      "{'0000': 134, '1000': 136, '1001': 133, '1010': 86, '1011': 101, '1100': 124, '1101': 131, '1110': 108, '1111': 125, '0001': 169, '0010': 105, '0011': 131, '0100': 136, '0101': 151, '0110': 152, '0111': 148}\n",
      "[[0.25442936 0.28573154 0.22522131 0.25156515]\n",
      " [0.25632105 0.27008676 0.27097961 0.26739032]\n",
      " [0.25632105 0.25347822 0.2038281  0.22088972]\n",
      " [0.24475167 0.25156515 0.2284161  0.24573659]]\n"
     ]
    },
    {
     "data": {
      "image/png": "[encoded data removed]",
      "text/plain": [
       "<Figure size 432x288 with 1 Axes>"
      ]
     },
     "metadata": {
      "needs_background": "light"
     },
     "output_type": "display_data"
    }
   ],
   "source": [
    "# Converting simulator output to pixel data to display\n",
    "job_results_relevant = {qubit_order[:-1:]: shots for qubit_order, shots in job_results.items() if qubit_order[4] == '0'}\n",
    "\n",
    "print(job_results_relevant)\n",
    "\n",
    "get_bin = lambda x, n: format(x, 'b').zfill(n)\n",
    "job_results_pixel_array = [ job_results_relevant[get_bin(i,4)] for i in range(2**4)] \n",
    "\n",
    "np_job_results_pixel_array = np.array(job_results_pixel_array)\n",
    "np_job_results_pixel_array = np_job_results_pixel_array * 4000\n",
    "np_job_results_pixel_array = np.sqrt(np_job_results_pixel_array)\n",
    "np_job_results_pixel_array = normalize(np_job_results_pixel_array)\n",
    "\n",
    "np_job_results_pixel_array_reshaped = np_job_results_pixel_array.reshape((4,4))\n",
    "\n",
    "print(np_job_results_pixel_array_reshaped)\n",
    "\n",
    "plot_image4x4_brightened(np_job_results_pixel_array_reshaped, \"1st Iteration; IBMQ_Quito\")"
   ]
  },
  {
   "cell_type": "code",
   "execution_count": null,
   "id": "b71beca9-9a8a-4eaf-8cc8-1f232f66eea3",
   "metadata": {},
   "outputs": [],
   "source": []
  }
 ],
 "metadata": {
  "kernelspec": {
   "display_name": "Python 3 (ipykernel)",
   "language": "python",
   "name": "python3"
  },
  "language_info": {
   "codemirror_mode": {
    "name": "ipython",
    "version": 3
   },
   "file_extension": ".py",
   "mimetype": "text/x-python",
   "name": "python",
   "nbconvert_exporter": "python",
   "pygments_lexer": "ipython3",
   "version": "3.10.8"
  },
  "widgets": {
   "application/vnd.jupyter.widget-state+json": {
    "state": {},
    "version_major": 2,
    "version_minor": 0
   }
  }
 },
 "nbformat": 4,
 "nbformat_minor": 5
}
