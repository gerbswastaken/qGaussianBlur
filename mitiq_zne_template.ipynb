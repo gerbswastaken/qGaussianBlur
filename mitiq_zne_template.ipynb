{
 "cells": [
  {
   "cell_type": "code",
   "execution_count": 2,
   "id": "c63f9ba8-57c4-4973-912d-eefdbdc8ee7a",
   "metadata": {},
   "outputs": [
    {
     "name": "stderr",
     "output_type": "stream",
     "text": [
      "ibmqfactory.load_account:WARNING:2022-10-03 12:14:40,975: Credentials are already in use. The existing account in the session will be replaced.\n"
     ]
    }
   ],
   "source": [
    "import numpy as np\n",
    "import matplotlib.pyplot as plt\n",
    "import PIL\n",
    "import qiskit\n",
    "\n",
    "# Importing standard Qiskit libraries\n",
    "from qiskit import QuantumCircuit, transpile, Aer, IBMQ\n",
    "from qiskit.tools.jupyter import *\n",
    "from qiskit.visualization import *\n",
    "from ibm_quantum_widgets import *\n",
    "from qiskit.providers.aer import QasmSimulator\n",
    "from qiskit.providers.ibmq import least_busy\n",
    "\n",
    "from PIL import Image\n",
    "\n",
    "# Loading your IBM Quantum account(s)\n",
    "provider = IBMQ.load_account()"
   ]
  },
  {
   "cell_type": "code",
   "execution_count": 3,
   "id": "dd4aca97-8315-48f8-be27-8639eb79ca87",
   "metadata": {},
   "outputs": [
    {
     "name": "stdout",
     "output_type": "stream",
     "text": [
      "Requirement already satisfied: mitiq in /opt/conda/lib/python3.8/site-packages (0.18.0)\n",
      "Requirement already satisfied: scipy~=1.7.3 in /opt/conda/lib/python3.8/site-packages (from mitiq) (1.7.3)\n",
      "Requirement already satisfied: cirq~=1.0.0 in /opt/conda/lib/python3.8/site-packages (from mitiq) (1.0.0)\n",
      "Requirement already satisfied: numpy~=1.20.1 in /opt/conda/lib/python3.8/site-packages (from mitiq) (1.20.3)\n",
      "Requirement already satisfied: cirq-web==1.0.0 in /opt/conda/lib/python3.8/site-packages (from cirq~=1.0.0->mitiq) (1.0.0)\n",
      "Requirement already satisfied: cirq-aqt==1.0.0 in /opt/conda/lib/python3.8/site-packages (from cirq~=1.0.0->mitiq) (1.0.0)\n",
      "Requirement already satisfied: cirq-ionq==1.0.0 in /opt/conda/lib/python3.8/site-packages (from cirq~=1.0.0->mitiq) (1.0.0)\n",
      "Requirement already satisfied: cirq-google==1.0.0 in /opt/conda/lib/python3.8/site-packages (from cirq~=1.0.0->mitiq) (1.0.0)\n",
      "Requirement already satisfied: cirq-pasqal==1.0.0 in /opt/conda/lib/python3.8/site-packages (from cirq~=1.0.0->mitiq) (1.0.0)\n",
      "Requirement already satisfied: cirq-core==1.0.0 in /opt/conda/lib/python3.8/site-packages (from cirq~=1.0.0->mitiq) (1.0.0)\n",
      "Requirement already satisfied: cirq-rigetti==1.0.0 in /opt/conda/lib/python3.8/site-packages (from cirq~=1.0.0->mitiq) (1.0.0)\n",
      "Requirement already satisfied: requests~=2.18 in /opt/conda/lib/python3.8/site-packages (from cirq-aqt==1.0.0->cirq~=1.0.0->mitiq) (2.27.1)\n",
      "Requirement already satisfied: networkx~=2.4 in /opt/conda/lib/python3.8/site-packages (from cirq-core==1.0.0->cirq~=1.0.0->mitiq) (2.7.1)\n",
      "Requirement already satisfied: pandas in /opt/conda/lib/python3.8/site-packages (from cirq-core==1.0.0->cirq~=1.0.0->mitiq) (1.3.5)\n",
      "Requirement already satisfied: sympy in /opt/conda/lib/python3.8/site-packages (from cirq-core==1.0.0->cirq~=1.0.0->mitiq) (1.10.1)\n",
      "Requirement already satisfied: matplotlib~=3.0 in /opt/conda/lib/python3.8/site-packages (from cirq-core==1.0.0->cirq~=1.0.0->mitiq) (3.5.1)\n",
      "Requirement already satisfied: tqdm in /opt/conda/lib/python3.8/site-packages (from cirq-core==1.0.0->cirq~=1.0.0->mitiq) (4.64.1)\n",
      "Requirement already satisfied: sortedcontainers~=2.0 in /opt/conda/lib/python3.8/site-packages (from cirq-core==1.0.0->cirq~=1.0.0->mitiq) (2.4.0)\n",
      "Requirement already satisfied: typing-extensions in /opt/conda/lib/python3.8/site-packages (from cirq-core==1.0.0->cirq~=1.0.0->mitiq) (4.3.0)\n",
      "Requirement already satisfied: duet~=0.2.7 in /opt/conda/lib/python3.8/site-packages (from cirq-core==1.0.0->cirq~=1.0.0->mitiq) (0.2.7)\n",
      "Requirement already satisfied: protobuf<4,>=3.15.0 in /opt/conda/lib/python3.8/site-packages (from cirq-google==1.0.0->cirq~=1.0.0->mitiq) (3.20.3)\n",
      "Requirement already satisfied: proto-plus>=1.20.0 in /opt/conda/lib/python3.8/site-packages (from cirq-google==1.0.0->cirq~=1.0.0->mitiq) (1.22.1)\n",
      "Requirement already satisfied: google-api-core[grpc]<2.0.0dev,>=1.14.0 in /opt/conda/lib/python3.8/site-packages (from cirq-google==1.0.0->cirq~=1.0.0->mitiq) (1.33.1)\n",
      "Requirement already satisfied: pyquil>=3.0.0 in /opt/conda/lib/python3.8/site-packages (from cirq-rigetti==1.0.0->cirq~=1.0.0->mitiq) (3.3.1)\n",
      "Requirement already satisfied: googleapis-common-protos<2.0dev,>=1.56.2 in /opt/conda/lib/python3.8/site-packages (from google-api-core[grpc]<2.0.0dev,>=1.14.0->cirq-google==1.0.0->cirq~=1.0.0->mitiq) (1.56.4)\n",
      "Requirement already satisfied: google-auth<3.0dev,>=1.25.0 in /opt/conda/lib/python3.8/site-packages (from google-api-core[grpc]<2.0.0dev,>=1.14.0->cirq-google==1.0.0->cirq~=1.0.0->mitiq) (2.12.0)\n",
      "Requirement already satisfied: grpcio-status<2.0dev,>=1.33.2 in /opt/conda/lib/python3.8/site-packages (from google-api-core[grpc]<2.0.0dev,>=1.14.0->cirq-google==1.0.0->cirq~=1.0.0->mitiq) (1.48.2)\n",
      "Requirement already satisfied: grpcio<2.0dev,>=1.33.2 in /opt/conda/lib/python3.8/site-packages (from google-api-core[grpc]<2.0.0dev,>=1.14.0->cirq-google==1.0.0->cirq~=1.0.0->mitiq) (1.49.1)\n",
      "Requirement already satisfied: pyasn1-modules>=0.2.1 in /opt/conda/lib/python3.8/site-packages (from google-auth<3.0dev,>=1.25.0->google-api-core[grpc]<2.0.0dev,>=1.14.0->cirq-google==1.0.0->cirq~=1.0.0->mitiq) (0.2.8)\n",
      "Requirement already satisfied: six>=1.9.0 in /opt/conda/lib/python3.8/site-packages (from google-auth<3.0dev,>=1.25.0->google-api-core[grpc]<2.0.0dev,>=1.14.0->cirq-google==1.0.0->cirq~=1.0.0->mitiq) (1.16.0)\n",
      "Requirement already satisfied: cachetools<6.0,>=2.0.0 in /opt/conda/lib/python3.8/site-packages (from google-auth<3.0dev,>=1.25.0->google-api-core[grpc]<2.0.0dev,>=1.14.0->cirq-google==1.0.0->cirq~=1.0.0->mitiq) (5.2.0)\n",
      "Requirement already satisfied: rsa<5,>=3.1.4 in /opt/conda/lib/python3.8/site-packages (from google-auth<3.0dev,>=1.25.0->google-api-core[grpc]<2.0.0dev,>=1.14.0->cirq-google==1.0.0->cirq~=1.0.0->mitiq) (4.9)\n",
      "Requirement already satisfied: cycler>=0.10 in /opt/conda/lib/python3.8/site-packages (from matplotlib~=3.0->cirq-core==1.0.0->cirq~=1.0.0->mitiq) (0.11.0)\n",
      "Requirement already satisfied: pillow>=6.2.0 in /opt/conda/lib/python3.8/site-packages (from matplotlib~=3.0->cirq-core==1.0.0->cirq~=1.0.0->mitiq) (9.0.1)\n",
      "Requirement already satisfied: kiwisolver>=1.0.1 in /opt/conda/lib/python3.8/site-packages (from matplotlib~=3.0->cirq-core==1.0.0->cirq~=1.0.0->mitiq) (1.4.2)\n",
      "Requirement already satisfied: fonttools>=4.22.0 in /opt/conda/lib/python3.8/site-packages (from matplotlib~=3.0->cirq-core==1.0.0->cirq~=1.0.0->mitiq) (4.31.2)\n",
      "Requirement already satisfied: packaging>=20.0 in /opt/conda/lib/python3.8/site-packages (from matplotlib~=3.0->cirq-core==1.0.0->cirq~=1.0.0->mitiq) (21.3)\n",
      "Requirement already satisfied: python-dateutil>=2.7 in /opt/conda/lib/python3.8/site-packages (from matplotlib~=3.0->cirq-core==1.0.0->cirq~=1.0.0->mitiq) (2.8.2)\n",
      "Requirement already satisfied: pyparsing>=2.2.1 in /opt/conda/lib/python3.8/site-packages (from matplotlib~=3.0->cirq-core==1.0.0->cirq~=1.0.0->mitiq) (3.0.7)\n",
      "Requirement already satisfied: pyasn1<0.5.0,>=0.4.6 in /opt/conda/lib/python3.8/site-packages (from pyasn1-modules>=0.2.1->google-auth<3.0dev,>=1.25.0->google-api-core[grpc]<2.0.0dev,>=1.14.0->cirq-google==1.0.0->cirq~=1.0.0->mitiq) (0.4.8)\n",
      "Requirement already satisfied: retry<0.10.0,>=0.9.2 in /opt/conda/lib/python3.8/site-packages (from pyquil>=3.0.0->cirq-rigetti==1.0.0->cirq~=1.0.0->mitiq) (0.9.2)\n",
      "Requirement already satisfied: rpcq<4.0.0,>=3.10.0 in /opt/conda/lib/python3.8/site-packages (from pyquil>=3.0.0->cirq-rigetti==1.0.0->cirq~=1.0.0->mitiq) (3.10.0)\n",
      "Requirement already satisfied: qcs-api-client<0.22.0,>=0.20.13 in /opt/conda/lib/python3.8/site-packages (from pyquil>=3.0.0->cirq-rigetti==1.0.0->cirq~=1.0.0->mitiq) (0.21.2)\n",
      "Requirement already satisfied: lark<0.12.0,>=0.11.1 in /opt/conda/lib/python3.8/site-packages (from pyquil>=3.0.0->cirq-rigetti==1.0.0->cirq~=1.0.0->mitiq) (0.11.3)\n",
      "Requirement already satisfied: pydantic<2.0.0,>=1.7.2 in /opt/conda/lib/python3.8/site-packages (from qcs-api-client<0.22.0,>=0.20.13->pyquil>=3.0.0->cirq-rigetti==1.0.0->cirq~=1.0.0->mitiq) (1.10.2)\n",
      "Requirement already satisfied: retrying<2.0.0,>=1.3.3 in /opt/conda/lib/python3.8/site-packages (from qcs-api-client<0.22.0,>=0.20.13->pyquil>=3.0.0->cirq-rigetti==1.0.0->cirq~=1.0.0->mitiq) (1.3.3)\n",
      "Requirement already satisfied: rfc3339<7.0,>=6.2 in /opt/conda/lib/python3.8/site-packages (from qcs-api-client<0.22.0,>=0.20.13->pyquil>=3.0.0->cirq-rigetti==1.0.0->cirq~=1.0.0->mitiq) (6.2)\n",
      "Requirement already satisfied: iso8601<2.0.0,>=1.0.2 in /opt/conda/lib/python3.8/site-packages (from qcs-api-client<0.22.0,>=0.20.13->pyquil>=3.0.0->cirq-rigetti==1.0.0->cirq~=1.0.0->mitiq) (1.1.0)\n",
      "Requirement already satisfied: attrs<21.0.0,>=20.1.0 in /opt/conda/lib/python3.8/site-packages (from qcs-api-client<0.22.0,>=0.20.13->pyquil>=3.0.0->cirq-rigetti==1.0.0->cirq~=1.0.0->mitiq) (20.3.0)\n",
      "Requirement already satisfied: PyJWT<3.0.0,>=2.4.0 in /opt/conda/lib/python3.8/site-packages (from qcs-api-client<0.22.0,>=0.20.13->pyquil>=3.0.0->cirq-rigetti==1.0.0->cirq~=1.0.0->mitiq) (2.5.0)\n",
      "Requirement already satisfied: httpx<0.24.0,>=0.23.0 in /opt/conda/lib/python3.8/site-packages (from qcs-api-client<0.22.0,>=0.20.13->pyquil>=3.0.0->cirq-rigetti==1.0.0->cirq~=1.0.0->mitiq) (0.23.0)\n",
      "Requirement already satisfied: toml<0.11.0,>=0.10.2 in /opt/conda/lib/python3.8/site-packages (from qcs-api-client<0.22.0,>=0.20.13->pyquil>=3.0.0->cirq-rigetti==1.0.0->cirq~=1.0.0->mitiq) (0.10.2)\n",
      "Requirement already satisfied: rfc3986[idna2008]<2,>=1.3 in /opt/conda/lib/python3.8/site-packages (from httpx<0.24.0,>=0.23.0->qcs-api-client<0.22.0,>=0.20.13->pyquil>=3.0.0->cirq-rigetti==1.0.0->cirq~=1.0.0->mitiq) (1.5.0)\n",
      "Requirement already satisfied: certifi in /opt/conda/lib/python3.8/site-packages (from httpx<0.24.0,>=0.23.0->qcs-api-client<0.22.0,>=0.20.13->pyquil>=3.0.0->cirq-rigetti==1.0.0->cirq~=1.0.0->mitiq) (2021.10.8)\n",
      "Requirement already satisfied: sniffio in /opt/conda/lib/python3.8/site-packages (from httpx<0.24.0,>=0.23.0->qcs-api-client<0.22.0,>=0.20.13->pyquil>=3.0.0->cirq-rigetti==1.0.0->cirq~=1.0.0->mitiq) (1.3.0)\n",
      "Requirement already satisfied: httpcore<0.16.0,>=0.15.0 in /opt/conda/lib/python3.8/site-packages (from httpx<0.24.0,>=0.23.0->qcs-api-client<0.22.0,>=0.20.13->pyquil>=3.0.0->cirq-rigetti==1.0.0->cirq~=1.0.0->mitiq) (0.15.0)\n",
      "Requirement already satisfied: h11<0.13,>=0.11 in /opt/conda/lib/python3.8/site-packages (from httpcore<0.16.0,>=0.15.0->httpx<0.24.0,>=0.23.0->qcs-api-client<0.22.0,>=0.20.13->pyquil>=3.0.0->cirq-rigetti==1.0.0->cirq~=1.0.0->mitiq) (0.12.0)\n",
      "Requirement already satisfied: anyio==3.* in /opt/conda/lib/python3.8/site-packages (from httpcore<0.16.0,>=0.15.0->httpx<0.24.0,>=0.23.0->qcs-api-client<0.22.0,>=0.20.13->pyquil>=3.0.0->cirq-rigetti==1.0.0->cirq~=1.0.0->mitiq) (3.6.1)\n",
      "Requirement already satisfied: idna>=2.8 in /opt/conda/lib/python3.8/site-packages (from anyio==3.*->httpcore<0.16.0,>=0.15.0->httpx<0.24.0,>=0.23.0->qcs-api-client<0.22.0,>=0.20.13->pyquil>=3.0.0->cirq-rigetti==1.0.0->cirq~=1.0.0->mitiq) (3.3)\n",
      "Requirement already satisfied: charset-normalizer~=2.0.0 in /opt/conda/lib/python3.8/site-packages (from requests~=2.18->cirq-aqt==1.0.0->cirq~=1.0.0->mitiq) (2.0.12)\n",
      "Requirement already satisfied: urllib3<1.27,>=1.21.1 in /opt/conda/lib/python3.8/site-packages (from requests~=2.18->cirq-aqt==1.0.0->cirq~=1.0.0->mitiq) (1.26.9)\n",
      "Requirement already satisfied: decorator>=3.4.2 in /opt/conda/lib/python3.8/site-packages (from retry<0.10.0,>=0.9.2->pyquil>=3.0.0->cirq-rigetti==1.0.0->cirq~=1.0.0->mitiq) (5.1.1)\n",
      "Requirement already satisfied: py<2.0.0,>=1.4.26 in /opt/conda/lib/python3.8/site-packages (from retry<0.10.0,>=0.9.2->pyquil>=3.0.0->cirq-rigetti==1.0.0->cirq~=1.0.0->mitiq) (1.11.0)\n",
      "Requirement already satisfied: ruamel.yaml in /opt/conda/lib/python3.8/site-packages (from rpcq<4.0.0,>=3.10.0->pyquil>=3.0.0->cirq-rigetti==1.0.0->cirq~=1.0.0->mitiq) (0.17.21)\n",
      "Requirement already satisfied: python-rapidjson in /opt/conda/lib/python3.8/site-packages (from rpcq<4.0.0,>=3.10.0->pyquil>=3.0.0->cirq-rigetti==1.0.0->cirq~=1.0.0->mitiq) (1.8)\n",
      "Requirement already satisfied: msgpack<1.0,>=0.6 in /opt/conda/lib/python3.8/site-packages (from rpcq<4.0.0,>=3.10.0->pyquil>=3.0.0->cirq-rigetti==1.0.0->cirq~=1.0.0->mitiq) (0.6.2)\n",
      "Requirement already satisfied: pyzmq>=17 in /opt/conda/lib/python3.8/site-packages (from rpcq<4.0.0,>=3.10.0->pyquil>=3.0.0->cirq-rigetti==1.0.0->cirq~=1.0.0->mitiq) (23.2.0)\n",
      "Requirement already satisfied: pytz>=2017.3 in /opt/conda/lib/python3.8/site-packages (from pandas->cirq-core==1.0.0->cirq~=1.0.0->mitiq) (2022.2.1)\n",
      "Requirement already satisfied: ruamel.yaml.clib>=0.2.6 in /opt/conda/lib/python3.8/site-packages (from ruamel.yaml->rpcq<4.0.0,>=3.10.0->pyquil>=3.0.0->cirq-rigetti==1.0.0->cirq~=1.0.0->mitiq) (0.2.6)\n",
      "Requirement already satisfied: mpmath>=0.19 in /opt/conda/lib/python3.8/site-packages (from sympy->cirq-core==1.0.0->cirq~=1.0.0->mitiq) (1.2.1)\n"
     ]
    }
   ],
   "source": [
    "import sys\n",
    "!{sys.executable} -m pip install mitiq"
   ]
  },
  {
   "cell_type": "code",
   "execution_count": 17,
   "id": "e0f5be4a-915a-40e8-af23-1949c015090a",
   "metadata": {},
   "outputs": [],
   "source": [
    "# Importing mitiq and curve fitting\n",
    "import mitiq\n",
    "from mitiq import zne\n",
    "\n",
    "from scipy.optimize import curve_fit"
   ]
  },
  {
   "cell_type": "code",
   "execution_count": 18,
   "id": "744c4339-2f59-44b3-b308-068f3e774b9a",
   "metadata": {},
   "outputs": [
    {
     "name": "stdout",
     "output_type": "stream",
     "text": [
      "Original Image Pixel values: \n",
      "[[0.8125     0.84765625 0.86328125 0.8515625 ]\n",
      " [0.88671875 0.89453125 0.22265625 0.8984375 ]\n",
      " [0.2890625  0.890625   0.49609375 0.8984375 ]\n",
      " [0.43359375 0.89453125 0.38671875 0.4375    ]]\n"
     ]
    }
   ],
   "source": [
    "# Loading our image in the Quantum State\n",
    "test_image = Image.open('test_4x4_image.tif')\n",
    "np_test_image = np.array(test_image)\n",
    "\n",
    "# We need to do this so that we take only a single channel of the color data in the .tif image\n",
    "test_image_final = []\n",
    "for row in np_test_image:\n",
    "    for pixel in row:\n",
    "        test_image_final.append( pixel[0] / 256)\n",
    "\n",
    "np_test_image = np.array(test_image_final)\n",
    "np_test_image = np_test_image.reshape((4,4))\n",
    "print(\"Original Image Pixel values: \")\n",
    "print(np_test_image)\n"
   ]
  },
  {
   "cell_type": "code",
   "execution_count": 19,
   "id": "e9d60b78-5c7e-43f0-98af-8672f5969db3",
   "metadata": {},
   "outputs": [
    {
     "data": {
      "image/png": "[encoded data removed]",
      "text/plain": [
       "<Figure size 432x288 with 1 Axes>"
      ]
     },
     "metadata": {
      "needs_background": "light"
     },
     "output_type": "display_data"
    },
    {
     "name": "stdout",
     "output_type": "stream",
     "text": [
      "Normalized Image Pixel values: \n",
      "[[0.2778443  0.2898664  0.29520956 0.29120219]\n",
      " [0.3032243  0.30589588 0.07614002 0.30723167]\n",
      " [0.09884845 0.30456009 0.16964532 0.30723167]\n",
      " [0.14827268 0.30589588 0.1322432  0.14960847]]\n"
     ]
    },
    {
     "data": {
      "image/png": "[encoded data removed]",
      "text/plain": [
       "<Figure size 432x288 with 1 Axes>"
      ]
     },
     "metadata": {
      "needs_background": "light"
     },
     "output_type": "display_data"
    }
   ],
   "source": [
    "# Function to plot our image\n",
    "def plot_image4x4(img, title: str):\n",
    "    plt.title(title)\n",
    "    plt.imshow(img, extent=[0, 4, 4, 0], vmin=0, vmax=1, cmap='gray')\n",
    "    plt.show()\n",
    "    \n",
    "plot_image4x4(np_test_image, \"Original Image\")   \n",
    "\n",
    "# We need to normalize our input image before passing it as the input quantum state.\n",
    "def normalize(array):\n",
    "    rms = np.sqrt(np.sum(np.sum(array**2)))\n",
    "    ret_array = []\n",
    "    for i in array:\n",
    "        ret_array.append( (i * (1/rms)) )\n",
    "    \n",
    "    npret_array = np.array(ret_array)\n",
    "    return npret_array\n",
    "\n",
    "# The normalized image is too dark, so we brighten it with this method\n",
    "def plot_image4x4_brightened(img, title: str):\n",
    "    plt.title(title)\n",
    "    plt.imshow(img, extent=[0, 4, 4, 0], vmin=0, vmax=0.34, cmap='gray')\n",
    "    plt.show()\n",
    "    \n",
    "def plot_image4x4_denormalized(image, true_image, true_image_normalized, title: str):\n",
    "    normalization_factor = 0.0\n",
    "    for x in range(4):\n",
    "        for y in range(4):\n",
    "            normalization_factor += (true_image_normalized[y][x] / true_image[y][x])\n",
    "    \n",
    "    #The average normalization factor, to account for floating point errors.\n",
    "    normalization_factor /= (4**2)\n",
    "    \n",
    "    image_plot = image / normalization_factor\n",
    "    \n",
    "    plt.title(title)\n",
    "    plt.imshow(image_plot, extent=[0, 4, 4, 0], vmin=0, vmax=1, cmap='gray')\n",
    "    plt.show()\n",
    "    \n",
    "\n",
    "np_test_image_normalized = normalize(np_test_image)\n",
    "print(\"Normalized Image Pixel values: \")\n",
    "print(np_test_image_normalized)\n",
    "\n",
    "plot_image4x4_denormalized(np_test_image_normalized, np_test_image, np_test_image_normalized, 'image in FRQI')"
   ]
  },
  {
   "cell_type": "code",
   "execution_count": 20,
   "id": "ee611d14-08e9-4602-8dd0-97ab8da7d55b",
   "metadata": {},
   "outputs": [
    {
     "data": {
      "image/png": "[encoded data removed]",
      "text/plain": [
       "<Figure size 1591.6x686.28 with 1 Axes>"
      ]
     },
     "execution_count": 20,
     "metadata": {},
     "output_type": "execute_result"
    }
   ],
   "source": [
    "# Our Quantum Circuit that initializes the FRQI image\n",
    "qc_image = QuantumCircuit(4,4)\n",
    "\n",
    "qc_image.initialize(np_test_image_normalized.reshape(16))\n",
    "\n",
    "qc_image.measure(range(4), range(4))\n",
    "\n",
    "#qc_image = qc_image.decompose().decompose().decompose().decompose().decompose().decompose().decompose()\n",
    "qc_image = qiskit.compiler.transpile(qc_image, basis_gates=[\"u1\", \"u2\", \"u3\", \"cx\"])\n",
    "\n",
    "qc_image.draw()"
   ]
  },
  {
   "cell_type": "code",
   "execution_count": 21,
   "id": "93b80875-a356-4c45-9ea6-0f35630bb6ed",
   "metadata": {},
   "outputs": [
    {
     "name": "stdout",
     "output_type": "stream",
     "text": [
      "Aer Simulator Output Image Pixel Values: \n",
      "[[0.2770379  0.29197603 0.29874738 0.28504386]\n",
      " [0.29453353 0.30248967 0.06123724 0.31104662]\n",
      " [0.09082951 0.31424513 0.16881943 0.31064449]\n",
      " [0.14491377 0.30618622 0.14230249 0.14747881]]\n"
     ]
    },
    {
     "data": {
      "image/png": "[encoded data removed]",
      "text/plain": [
       "<Figure size 432x288 with 1 Axes>"
      ]
     },
     "metadata": {
      "needs_background": "light"
     },
     "output_type": "display_data"
    }
   ],
   "source": [
    "simulator_output = [0.2770379, 0.29197603, 0.29874738, 0.28504386,\n",
    " 0.29453353, 0.30248967, 0.06123724, 0.31104662,\n",
    " 0.09082951, 0.31424513, 0.16881943, 0.31064449,\n",
    " 0.14491377, 0.30618622, 0.14230249, 0.14747881]\n",
    "np_simulator_output = np.array(simulator_output).reshape((4,4))\n",
    "print(\"Aer Simulator Output Image Pixel Values: \")\n",
    "print(np_simulator_output)\n",
    "\n",
    "plot_image4x4_denormalized(np_simulator_output, np_test_image, np_test_image_normalized, 'Aer Simulator Output')"
   ]
  },
  {
   "cell_type": "code",
   "execution_count": 22,
   "id": "8781f3b0-0b58-443b-9e2d-c85793a3b09b",
   "metadata": {},
   "outputs": [],
   "source": [
    "# Calculating Error:\n",
    "def un_normalize(true_image, true_image_normalized, image, n):\n",
    "    normalization_factor = 0.0\n",
    "    for x in range(n):\n",
    "        for y in range(n):\n",
    "            normalization_factor += (true_image_normalized[y][x] / true_image[y][x])\n",
    "    \n",
    "    #The average normalization factor, to account for floating point errors.\n",
    "    normalization_factor /= (n**2)\n",
    "    \n",
    "    image = image / normalization_factor\n",
    "    return image\n",
    "\n",
    "def rmse_image_error(true_image, error_image, n):\n",
    "    rms_error = 0.0\n",
    "    for y in range(n):\n",
    "        for x in range(n):\n",
    "            rms_error += ((true_image[y][x] - error_image[y][x]) ** 2)\n",
    "            \n",
    "    rms_error = np.sqrt(rms_error)\n",
    "    return (rms_error / (n**2))"
   ]
  },
  {
   "cell_type": "code",
   "execution_count": 23,
   "id": "5bb77e12-f9ff-464b-b757-6ed96c2286ff",
   "metadata": {},
   "outputs": [],
   "source": [
    "# Routines to plot errors and extrapolations associated with each pixel\n",
    "def linear_function(x, a, b):\n",
    "    return a + (b * x)\n",
    "\n",
    "def plot_pixel_error_linear(scale_factors, expectation_values, test_image_normalized, x, y, n):\n",
    "    plt.xlim([0, (int(scale_factors[-1]) + 1)])\n",
    "    plt.ylim([0,1])\n",
    "\n",
    "    scale_factors_fitted = np.linspace(0, 5, 100)\n",
    "\n",
    "    plt.scatter(scale_factors, expectation_values[x + (y * n)], label=\"Output data\")\n",
    "    param, param_cov = curve_fit(linear_function, scale_factors, expectation_values[x + (y * n)])\n",
    "    \n",
    "    scale_factors_fitted_output = []\n",
    "    for x_output in scale_factors_fitted:\n",
    "        scale_factors_fitted_output.append(linear_function(x_output, param[0], param[1]))\n",
    "        \n",
    "    np_scale_factors_fitted_output = np.array(scale_factors_fitted_output)\n",
    "    plt.plot(scale_factors_fitted, np_scale_factors_fitted_output, label=\"Extrapolation\" )\n",
    "\n",
    "    plt.scatter(0, linear_function(0, param[0], param[1]), label=\"ZNE Extrapolated Output\")\n",
    "    plt.scatter(0, test_image_normalized[y][x], label=\"Expected/True Output\")\n",
    "\n",
    "    plt.title(\"Pixel Error Data for (\" + str(x) + \", \" + str(y) + \")\")\n",
    "    plt.legend()\n",
    "    plt.show()"
   ]
  },
  {
   "cell_type": "code",
   "execution_count": 24,
   "id": "a499b3e0-7fc3-44b8-ae2f-e6893f3ac979",
   "metadata": {},
   "outputs": [
    {
     "name": "stderr",
     "output_type": "stream",
     "text": [
      "ibmqfactory.load_account:WARNING:2022-10-03 12:45:38,059: Credentials are already in use. The existing account in the session will be replaced.\n"
     ]
    },
    {
     "name": "stdout",
     "output_type": "stream",
     "text": [
      "Chosen Backend:  ibmq_kolkata\n"
     ]
    }
   ],
   "source": [
    "# EDIT THIS CELL TO RUN AN EXPERIMENT!\n",
    "\n",
    "# scale_factors is an array of noise multipliers\n",
    "scale_factors = [1., 2., 3., 4., 5., 6., 7., 8., 9., 10.]\n",
    "folded_circuits = [\n",
    "        mitiq.zne.scaling.folding.fold_all(\n",
    "        qc_image, scale) for scale in scale_factors\n",
    "]\n",
    "\n",
    "# Number of shots to run\n",
    "shots = 100000\n",
    "\n",
    "# Running on actual Quantum Hardware:\n",
    "IBMQ.load_account()\n",
    "provider = IBMQ.get_provider(hub=\"ibm-q-iitmadras\", group=\"mphasis-iitm\", project=\"default\")\n",
    "backend_kolkata = provider.get_backend(\"ibmq_kolkata\")\n",
    "print(\"Chosen Backend: \", backend_kolkata)\n",
    "\n",
    "job = qiskit.execute(\n",
    "   experiments=folded_circuits,\n",
    "   backend=backend_kolkata,\n",
    "   optimization_level=0,  # We're adding our own error, so we don't want qiskit to optimize anything!\n",
    "   shots=shots\n",
    ")\n",
    "\n",
    "# Note the backend and Job_ID used!"
   ]
  },
  {
   "cell_type": "code",
   "execution_count": null,
   "id": "8a71ed54-de0e-4162-ae2f-4e83d746f716",
   "metadata": {},
   "outputs": [],
   "source": [
    "# Copy the backend and Job_ID in this cell:\n",
    "# Backend: ibmq_kolkata Job_ID: 633ad987e50d9f0428104649\n",
    "IBMQ.load_account()\n",
    "provider = IBMQ.get_provider(hub=\"ibm-q-iitmadras\", group=\"mphasis-iitm\", project=\"default\")\n",
    "backend_kolkata = provider.get_backend(\"ibmq_kolkata\")\n",
    "kolkata_job = backend_kolkata.retrieve_job('633ad987e50d9f0428104649')\n",
    "\n",
    "print(kolkata_job)"
   ]
  },
  {
   "cell_type": "code",
   "execution_count": 14,
   "id": "6267782f-2a84-49db-b0a4-47f78b7970d8",
   "metadata": {},
   "outputs": [
    {
     "name": "stdout",
     "output_type": "stream",
     "text": [
      "Traceback \u001b[1;36m(most recent call last)\u001b[0m:\n",
      "\u001b[1;36m  Input \u001b[1;32mIn [14]\u001b[1;36m in \u001b[1;35m<cell line: 11>\u001b[1;36m\u001b[0m\n",
      "\u001b[1;33m    all_counts = [kolkata_job.result().get_counts(i) for i in range(len(folded_circuits))]\u001b[0m\n",
      "\u001b[1;31mNameError\u001b[0m\u001b[1;31m:\u001b[0m name 'folded_circuits' is not defined\n",
      "\n",
      "Use %tb to get the full traceback.\n"
     ]
    },
    {
     "data": {
      "text/html": [
       "\n",
       "<style>\n",
       ".button {\n",
       "  border: none;\n",
       "  color: white;\n",
       "  padding: 4px 8px;\n",
       "  text-align: center;\n",
       "  text-decoration: none;\n",
       "  display: inline-block;\n",
       "  font-size: 12px;\n",
       "  margin: 4px 2px;\n",
       "  transition-duration: 0.2s;\n",
       "  cursor: pointer;\n",
       "}\n",
       ".iqx-button {\n",
       "  background-color: #0f62fe; \n",
       "  color: white; \n",
       "}\n",
       ".iqx-button:hover {\n",
       "  background-color: #0043ce;\n",
       "  color: white;\n",
       "}\n",
       "</style>\n",
       "<a href=\"https://stackoverflow.com/search?q=NameError: name 'folded_circuits' is not defined\" target='_blank'><button class='button iqx-button'>Search for solution online</button></a>\n"
      ],
      "text/plain": [
       "<IPython.core.display.HTML object>"
      ]
     },
     "metadata": {},
     "output_type": "display_data"
    }
   ],
   "source": [
    "# This code will organize the data in the way we want. \n",
    "# NOTE: THIS CODE WAS WRITTEN FOR A 4X4 IMAGE. I HAVE HARD CODED 16 INTO THE CODE.\n",
    "# WE HAVE TO CHANGE THE RENDERING ROUTINES AND THE QUANTUMCIRCUIT ITSELF FOR LARGER IMAGES\n",
    "get_bin = lambda x, n: format(x, 'b').zfill(n)\n",
    "\n",
    "def linear_function(x, a, b):\n",
    "    return a + (b * x)\n",
    "\n",
    "zne_output = []\n",
    "\n",
    "all_counts = [kolkata_job.result().get_counts(i) for i in range(len(folded_circuits))]\n",
    "expectation_values = []\n",
    "for i in range(16):\n",
    "    expectation_values.append([np.sqrt((counts.get(get_bin(i, 4)) / shots)) for counts in all_counts])\n",
    "    \n",
    "for i in range(16):\n",
    "    param, param_cov = curve_fit(linear_function, scale_factors, expectation_values[i])\n",
    "    zne_output.append(linear_function(0, param[0], param[1]))\n",
    "    \n",
    "np_zne_output = np.array(zne_output).reshape((4,4))\n",
    "\n",
    "kolkata_output = []\n",
    "for i in range(16):\n",
    "    kolkata_output.append(expectation_values[i][0])\n",
    "np_kolkata_output = np.array(kolkata_output).reshape((4,4))"
   ]
  },
  {
   "cell_type": "code",
   "execution_count": null,
   "id": "b491fc85-b4bb-45e3-94ad-edb4847f2fa2",
   "metadata": {},
   "outputs": [],
   "source": [
    "# Plotting the outputs:\n",
    "print(\"IBMQ_Kolkata Output Image Pixels:\")\n",
    "print(np_kolkata_output)\n",
    "plot_image4x4_denormalized(np_kolkata_output, np_test_image, np_test_image_normalized, 'Output for IBMQ Kolkata - 100000 shots')\n",
    "\n",
    "print(\"IBMQ_Kolkata (w/ ZNE) Output Image Pixels:\")\n",
    "print(np_zne_output)\n",
    "plot_image4x4_denormalized(np_zne_output, np_test_image, np_test_image_normalized, 'Output for IBMQ Kolkata (w/ ZNE) - 100000 shots')"
   ]
  },
  {
   "cell_type": "code",
   "execution_count": null,
   "id": "cd147412-f058-4841-84e7-d8a5b1231c44",
   "metadata": {},
   "outputs": [],
   "source": [
    "# Calculating and Displaying the RMSE errors:\n",
    "rmse_kolkata = rmse_image_error(np_test_image, un_normalize(np_test_image, np_test_image_normalized, np_kolkata_output, 4), 4) \n",
    "rmse_zne = rmse_image_error(np_test_image, un_normalize(np_test_image, np_test_image_normalized, np_zne_output, 4), 4) \n",
    "print(\"IBMQ Kolkata error (100000 shots): \", (rmse_kolkata * 100), \"% per pixel\")\n",
    "print(\"IMBQ Kolkata (with ZNE) error (100000 shots): \", (rmse_zne * 100), \"% per pixel\")"
   ]
  },
  {
   "cell_type": "code",
   "execution_count": null,
   "id": "33bb791f-83fa-4e17-942a-213270cc7a5b",
   "metadata": {},
   "outputs": [],
   "source": [
    "# Plotting all of the errors and extrapolations for each pixel\n",
    "for y in range(4):\n",
    "    for x in range(4):\n",
    "        plot_pixel_error_linear(scale_factors, expectation_values, np_test_image_normalized, x, y, 4)"
   ]
  }
 ],
 "metadata": {
  "kernelspec": {
   "display_name": "Python 3 (ipykernel)",
   "language": "python",
   "name": "python3"
  },
  "language_info": {
   "codemirror_mode": {
    "name": "ipython",
    "version": 3
   },
   "file_extension": ".py",
   "mimetype": "text/x-python",
   "name": "python",
   "nbconvert_exporter": "python",
   "pygments_lexer": "ipython3",
   "version": "3.8.13"
  },
  "widgets": {
   "application/vnd.jupyter.widget-state+json": {
    "state": {},
    "version_major": 2,
    "version_minor": 0
   }
  }
 },
 "nbformat": 4,
 "nbformat_minor": 5
}
